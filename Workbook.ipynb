{
 "cells": [
  {
   "cell_type": "code",
   "execution_count": 1,
   "metadata": {
    "collapsed": false
   },
   "outputs": [],
   "source": [
    "import IM_rank_correlations as IMR"
   ]
  },
  {
   "cell_type": "code",
   "execution_count": 2,
   "metadata": {
    "collapsed": false
   },
   "outputs": [],
   "source": [
    "ranks_matrix = IMR.ranks(IMR.scores_matrix, IMR.measures_arr);"
   ]
  },
  {
   "cell_type": "code",
   "execution_count": 3,
   "metadata": {
    "collapsed": true
   },
   "outputs": [],
   "source": [
    "clusters  = ranks_matrix.form_clusters(2);\n",
    "# ranks_matrix.remove_outliers(clusters[1]);\n",
    "# clusters_single  = ranks_matrix.form_clusters(2, 'single');\n",
    "# clusters_complete  = ranks_matrix.form_clusters(2, 'complete');"
   ]
  },
  {
   "cell_type": "code",
   "execution_count": 4,
   "metadata": {
    "collapsed": false,
    "scrolled": false
   },
   "outputs": [
    {
     "name": "stdout",
     "output_type": "stream",
     "text": [
      "[ array([ 0,  1,  2,  3,  4,  5,  6,  7,  8,  9, 10, 11, 12, 13, 14, 15, 18,\n",
      "       19, 20, 21, 22, 23, 24, 25, 26, 27, 28, 29, 30, 31, 32, 33, 34, 35,\n",
      "       36, 37, 41, 42, 43, 44, 45, 46, 47, 48, 49])\n",
      " array([16, 17, 38, 39, 40])]\n"
     ]
    }
   ],
   "source": [
    "print(clusters)\n",
    "# print(clusters_complete)\n",
    "\n",
    "# ranks_matrix.show_dendrogram(linkage_method='single');\n",
    "# ranks_matrix.show_dendrogram(linkage_method='average');\n",
    "# ranks_matrix.show_dendrogram(linkage_method='complete');\n",
    "# ranks_matrix.show_dendrogram(linkage_method='centroid');\n"
   ]
  },
  {
   "cell_type": "code",
   "execution_count": null,
   "metadata": {
    "collapsed": false
   },
   "outputs": [],
   "source": []
  },
  {
   "cell_type": "code",
   "execution_count": 66,
   "metadata": {
    "collapsed": false
   },
   "outputs": [
    {
     "name": "stdout",
     "output_type": "stream",
     "text": [
      "[array([ 0,  4,  5, 11, 15, 23])\n",
      " array([ 1,  2,  9, 12, 14, 24, 26, 32, 44, 45, 46, 47, 48, 49])\n",
      " array([ 3,  6, 10, 13, 18, 19, 20, 21, 22, 25, 28, 29, 30, 31, 33, 34, 35,\n",
      "       36, 37, 42, 43])\n",
      " array([7, 8]) array([16]) array([17]) array([27, 41]) array([38])\n",
      " array([39]) array([40])]\n"
     ]
    }
   ],
   "source": [
    "n_clusters = 10;\n",
    "clusters = ranks_matrix.form_clusters(n_clusters);\n",
    "print(clusters)"
   ]
  },
  {
   "cell_type": "code",
   "execution_count": 67,
   "metadata": {
    "collapsed": false
   },
   "outputs": [],
   "source": [
    "import measure_classification as mc;\n",
    "import compute_invariance;"
   ]
  },
  {
   "cell_type": "code",
   "execution_count": 68,
   "metadata": {
    "collapsed": false
   },
   "outputs": [],
   "source": [
    "measures_arr = ranks_matrix.measures_arr;\n",
    "measures_dict = ranks_matrix.measures_dict;\n",
    "property_dict = compute_invariance.compute_property_vectors(measures_dict);\n",
    "X,Y = mc.initialize_X_Y(measures_arr, property_dict);"
   ]
  },
  {
   "cell_type": "code",
   "execution_count": 69,
   "metadata": {
    "collapsed": false
   },
   "outputs": [
    {
     "data": {
      "text/plain": [
       "(50, 7)"
      ]
     },
     "execution_count": 69,
     "metadata": {},
     "output_type": "execute_result"
    }
   ],
   "source": [
    "X = mc.form_X(property_dict, measures_dict, X);\n",
    "Y = mc.assign_clusters_to_Y(clusters, Y);\n",
    "X.shape"
   ]
  },
  {
   "cell_type": "code",
   "execution_count": 70,
   "metadata": {
    "collapsed": false,
    "scrolled": true
   },
   "outputs": [],
   "source": [
    "# import numpy as np;\n",
    "# measures_arr[(X[:,12] == 0) & (X[:,38] == 1) & (X[:,41] == 0)]"
   ]
  },
  {
   "cell_type": "code",
   "execution_count": 71,
   "metadata": {
    "collapsed": false
   },
   "outputs": [],
   "source": [
    "# ranks_matrix.show_dendrogram()"
   ]
  },
  {
   "cell_type": "code",
   "execution_count": 72,
   "metadata": {
    "collapsed": false
   },
   "outputs": [
    {
     "name": "stdout",
     "output_type": "stream",
     "text": [
      "0.7\n"
     ]
    }
   ],
   "source": [
    "predictions, tree_classifier = mc.classify_decision_tree(X,Y, criterion='gini');\n",
    "print(tree_classifier.score(X,Y))"
   ]
  },
  {
   "cell_type": "code",
   "execution_count": 73,
   "metadata": {
    "collapsed": false
   },
   "outputs": [],
   "source": [
    "mc.export_to_pdf(tree_classifier, n_clusters, len(measures_arr))"
   ]
  },
  {
   "cell_type": "code",
   "execution_count": 54,
   "metadata": {
    "collapsed": false,
    "scrolled": false
   },
   "outputs": [],
   "source": [
    "# from sklearn.manifold import t_sne;\n",
    "# from sklearn.manifold import Isomap;\n",
    "# n_components = 2;\n",
    "\n",
    "# isomap = Isomap(n_components=n_components);\n",
    "# tsne = t_sne.TSNE(n_components=n_components);\n",
    "\n",
    "# # plot = isomap.fit_transform(X);\n",
    "# plot = tsne.fit_transform(X);\n",
    "# print(plot.shape)\n",
    "\n",
    "# import matplotlib.pyplot as plt;\n",
    "# import itertools;\n",
    "\n",
    "# for i,j in itertools.combinations(range(n_components), 2):\n",
    "#     plt.scatter(plot[:,i], plot[:,j], c = Y, cmap = plt.cm.Spectral);\n",
    "#     plt.title(str(i) + ',' +str(j));\n",
    "#     plt.show()\n",
    "\n"
   ]
  },
  {
   "cell_type": "code",
   "execution_count": 14,
   "metadata": {
    "collapsed": false
   },
   "outputs": [],
   "source": [
    "from sklearn.cluster import AgglomerativeClustering"
   ]
  },
  {
   "cell_type": "code",
   "execution_count": 55,
   "metadata": {
    "collapsed": false
   },
   "outputs": [],
   "source": [
    "agg_cluster = AgglomerativeClustering(n_clusters=7);"
   ]
  },
  {
   "cell_type": "code",
   "execution_count": 56,
   "metadata": {
    "collapsed": false
   },
   "outputs": [
    {
     "name": "stdout",
     "output_type": "stream",
     "text": [
      "[4 4 4 0 2 2 6 3 3 4 0 1 3 1 4 2 5 5 3 0 0 6 6 2 2 3 1 3 3 3 3 1 4 3 3 0 3\n",
      " 1 5 0 1 3 0 3 4 3 3 0 3 3]\n"
     ]
    }
   ],
   "source": [
    "Y_prop = agg_cluster.fit_predict(X)\n",
    "print(Y_prop)"
   ]
  },
  {
   "cell_type": "code",
   "execution_count": 61,
   "metadata": {
    "collapsed": false
   },
   "outputs": [
    {
     "name": "stdout",
     "output_type": "stream",
     "text": [
      "1.0\n"
     ]
    }
   ],
   "source": [
    "from sklearn.model_selection import train_test_split\n",
    "X_train, X_test, y_train, y_test = train_test_split(X,Y_prop, random_state=43, train_size = 0.7)\n",
    "predictions, tree_classifier = mc.classify_decision_tree(X,Y_prop, criterion='gini');\n",
    "print(tree_classifier.score(X_test,y_test))"
   ]
  },
  {
   "cell_type": "code",
   "execution_count": 62,
   "metadata": {
    "collapsed": true
   },
   "outputs": [],
   "source": [
    "mc.export_to_pdf(tree_classifier, n_clusters, len(measures_arr))"
   ]
  },
  {
   "cell_type": "code",
   "execution_count": 63,
   "metadata": {
    "collapsed": false
   },
   "outputs": [
    {
     "data": {
      "text/plain": [
       "array(['jaccard', 'f_measure', 'kulczynsky_1', 'cosine',\n",
       "       'least_contradiction'], \n",
       "      dtype='<U29')"
      ]
     },
     "execution_count": 63,
     "metadata": {},
     "output_type": "execute_result"
    }
   ],
   "source": [
    "measures_arr[(X[:,6] == 1) & (X[:,1] == 1)]"
   ]
  },
  {
   "cell_type": "code",
   "execution_count": null,
   "metadata": {
    "collapsed": true
   },
   "outputs": [],
   "source": []
  }
 ],
 "metadata": {
  "anaconda-cloud": {},
  "kernelspec": {
   "display_name": "Python 3",
   "language": "python",
   "name": "python3"
  },
  "language_info": {
   "codemirror_mode": {
    "name": "ipython",
    "version": 3
   },
   "file_extension": ".py",
   "mimetype": "text/x-python",
   "name": "python",
   "nbconvert_exporter": "python",
   "pygments_lexer": "ipython3",
   "version": "3.5.2"
  }
 },
 "nbformat": 4,
 "nbformat_minor": 1
}
