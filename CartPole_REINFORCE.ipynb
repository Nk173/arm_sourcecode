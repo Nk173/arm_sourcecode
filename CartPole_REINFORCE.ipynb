{
  "nbformat": 4,
  "nbformat_minor": 0,
  "metadata": {
    "colab": {
      "name": "CartPole-REINFORCE.ipynb",
      "version": "0.3.2",
      "provenance": [],
      "collapsed_sections": [],
      "include_colab_link": true
    },
    "kernelspec": {
      "name": "python3",
      "display_name": "Python 3"
    }
  },
  "cells": [
    {
      "cell_type": "markdown",
      "metadata": {
        "id": "view-in-github",
        "colab_type": "text"
      },
      "source": [
        "[View in Colaboratory](https://colab.research.google.com/github/shaabhishek/arm_sourcecode/blob/master/CartPole_REINFORCE.ipynb)"
      ]
    },
    {
      "metadata": {
        "id": "3FozMKi2yo0H",
        "colab_type": "code",
        "colab": {
          "base_uri": "https://localhost:8080/",
          "height": 34
        },
        "outputId": "f30508dc-a95b-4a2e-ba48-efc794778cb1"
      },
      "cell_type": "code",
      "source": [
        "# !pip install gym\n",
        "import gym\n",
        "env = gym.make('CartPole-v0')"
      ],
      "execution_count": 1,
      "outputs": [
        {
          "output_type": "stream",
          "text": [
            "\u001b[33mWARN: gym.spaces.Box autodetected dtype as <class 'numpy.float32'>. Please provide explicit dtype.\u001b[0m\n"
          ],
          "name": "stdout"
        }
      ]
    },
    {
      "metadata": {
        "id": "BWBUTgYzywO6",
        "colab_type": "code",
        "colab": {
          "base_uri": "https://localhost:8080/",
          "height": 34
        },
        "outputId": "bcc25a1f-b1d9-46f6-9491-c967f7c82a69"
      },
      "cell_type": "code",
      "source": [
        "import numpy as np\n",
        "import random\n",
        "import tensorflow as tf\n",
        "tf.enable_eager_execution()\n",
        "\n",
        "seed_val = 111\n",
        "np.random.seed(seed_val)\n",
        "random.seed(seed_val+1)\n",
        "tf.set_random_seed(seed_val+2)\n",
        "env.seed(seed_val+3)"
      ],
      "execution_count": 2,
      "outputs": [
        {
          "output_type": "execute_result",
          "data": {
            "text/plain": [
              "[114]"
            ]
          },
          "metadata": {
            "tags": []
          },
          "execution_count": 2
        }
      ]
    },
    {
      "metadata": {
        "id": "iOlDQmtCy63D",
        "colab_type": "code",
        "colab": {
          "base_uri": "https://localhost:8080/",
          "height": 34
        },
        "outputId": "a963b3c0-8c02-45ec-e892-09fcdd7b1fe9"
      },
      "cell_type": "code",
      "source": [
        "from collections import deque\n",
        "from keras.models import clone_model\n",
        "# from keras.utils import to_categorical\n",
        "from keras import optimizers"
      ],
      "execution_count": 3,
      "outputs": [
        {
          "output_type": "stream",
          "text": [
            "Using TensorFlow backend.\n"
          ],
          "name": "stderr"
        }
      ]
    },
    {
      "metadata": {
        "id": "0HmNE7fB4J5h",
        "colab_type": "code",
        "colab": {}
      },
      "cell_type": "code",
      "source": [
        "def preprocess(img):\n",
        "    return np.reshape(img, (1,4))\n"
      ],
      "execution_count": 0,
      "outputs": []
    },
    {
      "metadata": {
        "id": "m9B56xqm1Xkv",
        "colab_type": "code",
        "colab": {}
      },
      "cell_type": "code",
      "source": [
        "N_ACTIONS = env.action_space.n\n",
        "DIM_STATES = env.observation_space.shape[0]\n",
        "N_EPISODES = 100\n",
        "BATCH_SIZE = 200\n",
        "SGD_BATCH_SIZE = 16\n",
        "TIMESTEP_LIMIT = env.spec.timestep_limit\n",
        "discount_factor = 0.99"
      ],
      "execution_count": 0,
      "outputs": []
    },
    {
      "metadata": {
        "id": "AszHRv8SzCh6",
        "colab_type": "code",
        "colab": {}
      },
      "cell_type": "code",
      "source": [
        "class PolicyEstimator():\n",
        "  \"\"\"\n",
        "  Policy Function Approximation\n",
        "  \"\"\"\n",
        "  def __init__(self, learning_rate = 0.1):\n",
        "    self.learning_rate = learning_rate\n",
        "    self.pi = self._build_model()\n",
        "    self.grad_init = [tf.zeros_like(theta) for theta in self.pi.get_weights()]\n",
        "  \n",
        "  def _build_model(self):\n",
        "    model = tf.keras.Sequential([\n",
        "#         tf.keras.layers.Dense(16, input_shape=(4,), activation='relu'),\n",
        "#         tf.keras.layers.Dense(16, activation='relu'),\n",
        "        tf.keras.layers.Dense(N_ACTIONS, input_shape=(4,), activation='linear', use_bias=True)\n",
        "    ])\n",
        "    self.optimizer = tf.train.GradientDescentOptimizer(learning_rate=self.learning_rate)\n",
        "    return model\n",
        "  \n",
        "  def select_action(self, state):\n",
        "    return tf.squeeze(tf.multinomial(pi_model.pi(state), 1)).numpy()\n",
        "  \n",
        "  def loss(self, state, action, advantage):\n",
        "    # negative loss because we're maximizing\n",
        "    ## picking the log_probability corresponding to the action taken and\n",
        "    ## scaling it by 'advantage'\n",
        "    pi = tf.nn.softmax(self.pi(state))\n",
        "    return -tf.gather(tf.squeeze(tf.log(pi)), action)*advantage\n",
        "  \n",
        "  def compute_gradient(self, state, action, advantage):\n",
        "    \"\"\"\n",
        "    Compute the gradient at time t\n",
        "    :param state: the state for which pi will be calculated, shape 1 x |S|\n",
        "    :param action: action taken. \n",
        "    :return list of Gradient tensors with length = count(weights)+ count(biases)\n",
        "    \"\"\"\n",
        "    with tf.GradientTape() as tape:\n",
        "      loss_val = self.loss(state, action, advantage)\n",
        "    return tape.gradient(loss_val, self.pi.variables)\n",
        "  \n",
        "  def apply_gradient(self, grads):\n",
        "    \"\"\"\"\"\"\n",
        "    self.optimizer.apply_gradients(zip(grads, self.pi.variables),\n",
        "                                   global_step=tf.train.get_or_create_global_step())\n",
        "\n",
        "\n",
        "pi_model = PolicyEstimator()"
      ],
      "execution_count": 0,
      "outputs": []
    },
    {
      "metadata": {
        "id": "hZHtH17H2s4p",
        "colab_type": "code",
        "colab": {
          "base_uri": "https://localhost:8080/",
          "height": 1717
        },
        "outputId": "42c39ebb-8649-4e29-8695-cc575856d2e1"
      },
      "cell_type": "code",
      "source": [
        "pi_model = PolicyEstimator()\n",
        "avg_rewards = []\n",
        "for episode in range(1,N_EPISODES+1):\n",
        "  \n",
        "  episode_rewards = []\n",
        "  # copy zero initialized list by value\n",
        "  grad = pi_model.grad_init[:]\n",
        "  all_returns = np.zeros((BATCH_SIZE, TIMESTEP_LIMIT))\n",
        "  rewards = [[] for _ in range(BATCH_SIZE)]\n",
        "  states = [[] for _ in range(BATCH_SIZE)]\n",
        "  actions = [[] for _ in range(BATCH_SIZE)]\n",
        "  \n",
        "  for roll_i in range(BATCH_SIZE):\n",
        "    done = False\n",
        "    cur_state = preprocess(env.reset())\n",
        "    for t in range(TIMESTEP_LIMIT):\n",
        "      action = pi_model.select_action(cur_state)\n",
        "      next_state, reward, done, info = env.step(action)\n",
        "      next_state = preprocess(next_state)\n",
        "      states[roll_i].append(cur_state)\n",
        "      actions[roll_i].append(action)\n",
        "      rewards[roll_i].append(reward)\n",
        "      cur_state = next_state\n",
        "      if done:\n",
        "        episode_rewards.append(np.sum(rewards[roll_i]))\n",
        "        for t_ in range(len(rewards[roll_i])):\n",
        "          all_returns[roll_i,t_] = sum([discount_factor**ix * reward for ix, reward in enumerate(rewards[roll_i][t_:])])\n",
        "        break\n",
        "      \n",
        "  baselines = np.mean(all_returns, axis=0)\n",
        "  advantages = all_returns - baselines\n",
        "    \n",
        "    ## random sampling rollouts for gradient update will lead to a SGD step\n",
        "    ## Here, SGD_BATCH_SIZE = BATCH_SIZE will give vanilla Gradient Descent\n",
        "    ## running the gradient update for all rollouts will be expensive (=vanilla GD)\n",
        "  for roll_i in random.sample(range(BATCH_SIZE), SGD_BATCH_SIZE):\n",
        "#   for roll_i in range(BATCH_SIZE):\n",
        "    for t in range(len(states[roll_i])):\n",
        "#       pi_model.optimizer.minimize(loss=lambda: pi_model.loss(states[roll_i][t], actions[roll_i][t], advantages[roll_i,t]),\n",
        "#                                   global_step=tf.train.get_or_create_global_step())\n",
        "      grad_t = pi_model.compute_gradient(states[roll_i][t], actions[roll_i][t], advantages[roll_i][t])\n",
        "      # grad_t is a list of weights and biases, so do element-wise summation\n",
        "      grad = [grad[i] + grad_t[i] for i in range(len(grad))]\n",
        "  \n",
        "  ## Mean of gradient\n",
        "  grad = [g_i/SGD_BATCH_SIZE for g_i in grad]\n",
        "\n",
        "  ## Normalize the gradient\n",
        "  grad = [g_i/(np.linalg.norm(g_i)+1e-8) for g_i in grad]\n",
        "  pi_model.apply_gradient(grad)  \n",
        "  \n",
        "  avg_rewards.append(np.mean(episode_rewards))\n",
        "  if episode%1 == 0: print(\"Episode:{}, Avg Rewards:{}, Norm of Weights:{}\".format(episode,\n",
        "                                                                                   avg_rewards[-1],\n",
        "                                                                                   np.linalg.norm(pi_model.pi.get_weights()[0])))"
      ],
      "execution_count": 36,
      "outputs": [
        {
          "output_type": "stream",
          "text": [
            "Episode:1, Avg Rewards:12.995, Norm of Weights:1.4958665370941162\n",
            "Episode:2, Avg Rewards:12.89, Norm of Weights:1.4455697536468506\n",
            "Episode:3, Avg Rewards:13.26, Norm of Weights:1.3990845680236816\n",
            "Episode:4, Avg Rewards:14.05, Norm of Weights:1.3593716621398926\n",
            "Episode:5, Avg Rewards:15.635, Norm of Weights:1.324618935585022\n",
            "Episode:6, Avg Rewards:16.515, Norm of Weights:1.2981139421463013\n",
            "Episode:7, Avg Rewards:16.905, Norm of Weights:1.2786214351654053\n",
            "Episode:8, Avg Rewards:19.28, Norm of Weights:1.2649801969528198\n",
            "Episode:9, Avg Rewards:19.23, Norm of Weights:1.2614216804504395\n",
            "Episode:10, Avg Rewards:21.765, Norm of Weights:1.265426754951477\n",
            "Episode:11, Avg Rewards:23.78, Norm of Weights:1.2803051471710205\n",
            "Episode:12, Avg Rewards:25.125, Norm of Weights:1.2976747751235962\n",
            "Episode:13, Avg Rewards:29.26, Norm of Weights:1.3208777904510498\n",
            "Episode:14, Avg Rewards:30.08, Norm of Weights:1.3542221784591675\n",
            "Episode:15, Avg Rewards:31.985, Norm of Weights:1.3777638673782349\n",
            "Episode:16, Avg Rewards:27.095, Norm of Weights:1.4242570400238037\n",
            "Episode:17, Avg Rewards:33.37, Norm of Weights:1.4742259979248047\n",
            "Episode:18, Avg Rewards:38.87, Norm of Weights:1.526674509048462\n",
            "Episode:19, Avg Rewards:42.275, Norm of Weights:1.582143783569336\n",
            "Episode:20, Avg Rewards:43.86, Norm of Weights:1.6235899925231934\n",
            "Episode:21, Avg Rewards:42.505, Norm of Weights:1.67071533203125\n",
            "Episode:22, Avg Rewards:46.78, Norm of Weights:1.738111138343811\n",
            "Episode:23, Avg Rewards:49.42, Norm of Weights:1.8033771514892578\n",
            "Episode:24, Avg Rewards:49.135, Norm of Weights:1.8304479122161865\n",
            "Episode:25, Avg Rewards:54.92, Norm of Weights:1.8917121887207031\n",
            "Episode:26, Avg Rewards:53.705, Norm of Weights:1.9640612602233887\n",
            "Episode:27, Avg Rewards:58.14, Norm of Weights:2.0094223022460938\n",
            "Episode:28, Avg Rewards:62.72, Norm of Weights:2.0856833457946777\n",
            "Episode:29, Avg Rewards:59.52, Norm of Weights:2.1562795639038086\n",
            "Episode:30, Avg Rewards:62.945, Norm of Weights:2.237863302230835\n",
            "Episode:31, Avg Rewards:67.94, Norm of Weights:2.2961857318878174\n",
            "Episode:32, Avg Rewards:69.33, Norm of Weights:2.2881689071655273\n",
            "Episode:33, Avg Rewards:68.115, Norm of Weights:2.332041025161743\n",
            "Episode:34, Avg Rewards:70.885, Norm of Weights:2.3708648681640625\n",
            "Episode:35, Avg Rewards:80.015, Norm of Weights:2.4181129932403564\n",
            "Episode:36, Avg Rewards:88.125, Norm of Weights:2.4491820335388184\n",
            "Episode:37, Avg Rewards:96.325, Norm of Weights:2.4905941486358643\n",
            "Episode:38, Avg Rewards:93.915, Norm of Weights:2.5334742069244385\n",
            "Episode:39, Avg Rewards:119.115, Norm of Weights:2.5548055171966553\n",
            "Episode:40, Avg Rewards:116.81, Norm of Weights:2.609063148498535\n",
            "Episode:41, Avg Rewards:129.995, Norm of Weights:2.697394847869873\n",
            "Episode:42, Avg Rewards:135.465, Norm of Weights:2.7446370124816895\n",
            "Episode:43, Avg Rewards:138.955, Norm of Weights:2.772644519805908\n",
            "Episode:44, Avg Rewards:141.695, Norm of Weights:2.845533609390259\n",
            "Episode:45, Avg Rewards:157.575, Norm of Weights:2.8698112964630127\n",
            "Episode:46, Avg Rewards:146.795, Norm of Weights:2.9333252906799316\n",
            "Episode:47, Avg Rewards:159.11, Norm of Weights:3.010986328125\n",
            "Episode:48, Avg Rewards:153.365, Norm of Weights:3.0424880981445312\n",
            "Episode:49, Avg Rewards:164.33, Norm of Weights:3.128572940826416\n",
            "Episode:50, Avg Rewards:157.23, Norm of Weights:3.1580216884613037\n",
            "Episode:51, Avg Rewards:172.275, Norm of Weights:3.2417666912078857\n",
            "Episode:52, Avg Rewards:167.805, Norm of Weights:3.3247828483581543\n",
            "Episode:53, Avg Rewards:173.24, Norm of Weights:3.3729453086853027\n",
            "Episode:54, Avg Rewards:157.89, Norm of Weights:3.4213056564331055\n"
          ],
          "name": "stdout"
        },
        {
          "output_type": "stream",
          "text": [
            "Episode:55, Avg Rewards:150.825, Norm of Weights:3.476102352142334\n",
            "Episode:56, Avg Rewards:169.755, Norm of Weights:3.5005362033843994\n",
            "Episode:57, Avg Rewards:179.715, Norm of Weights:3.5111172199249268\n",
            "Episode:58, Avg Rewards:176.025, Norm of Weights:3.526059627532959\n",
            "Episode:59, Avg Rewards:178.98, Norm of Weights:3.5508625507354736\n",
            "Episode:60, Avg Rewards:177.065, Norm of Weights:3.5737836360931396\n",
            "Episode:61, Avg Rewards:181.63, Norm of Weights:3.5803778171539307\n",
            "Episode:62, Avg Rewards:179.795, Norm of Weights:3.6088032722473145\n",
            "Episode:63, Avg Rewards:182.26, Norm of Weights:3.6509861946105957\n",
            "Episode:64, Avg Rewards:171.445, Norm of Weights:3.6622791290283203\n",
            "Episode:65, Avg Rewards:187.14, Norm of Weights:3.755858898162842\n",
            "Episode:66, Avg Rewards:180.01, Norm of Weights:3.813152313232422\n",
            "Episode:67, Avg Rewards:188.28, Norm of Weights:3.830953359603882\n",
            "Episode:68, Avg Rewards:184.73, Norm of Weights:3.912822723388672\n",
            "Episode:69, Avg Rewards:166.135, Norm of Weights:3.9957780838012695\n",
            "Episode:70, Avg Rewards:183.555, Norm of Weights:4.090219497680664\n",
            "Episode:71, Avg Rewards:192.815, Norm of Weights:4.128533363342285\n",
            "Episode:72, Avg Rewards:191.525, Norm of Weights:4.217012882232666\n",
            "Episode:73, Avg Rewards:194.31, Norm of Weights:4.232034206390381\n",
            "Episode:74, Avg Rewards:190.105, Norm of Weights:4.241596698760986\n",
            "Episode:75, Avg Rewards:193.635, Norm of Weights:4.273858547210693\n",
            "Episode:76, Avg Rewards:190.86, Norm of Weights:4.278580665588379\n",
            "Episode:77, Avg Rewards:194.825, Norm of Weights:4.303424835205078\n",
            "Episode:78, Avg Rewards:191.86, Norm of Weights:4.341221809387207\n",
            "Episode:79, Avg Rewards:193.515, Norm of Weights:4.3561787605285645\n",
            "Episode:80, Avg Rewards:189.68, Norm of Weights:4.357064723968506\n",
            "Episode:81, Avg Rewards:195.75, Norm of Weights:4.371738910675049\n",
            "Episode:82, Avg Rewards:194.01, Norm of Weights:4.3999857902526855\n",
            "Episode:83, Avg Rewards:195.51, Norm of Weights:4.416670799255371\n",
            "Episode:84, Avg Rewards:196.395, Norm of Weights:4.429742336273193\n",
            "Episode:85, Avg Rewards:190.94, Norm of Weights:4.441654682159424\n",
            "Episode:86, Avg Rewards:192.355, Norm of Weights:4.518312454223633\n",
            "Episode:87, Avg Rewards:193.385, Norm of Weights:4.532614231109619\n",
            "Episode:88, Avg Rewards:194.12, Norm of Weights:4.54255485534668\n",
            "Episode:89, Avg Rewards:187.095, Norm of Weights:4.636750221252441\n",
            "Episode:90, Avg Rewards:195.965, Norm of Weights:4.638627052307129\n",
            "Episode:91, Avg Rewards:194.885, Norm of Weights:4.650794982910156\n",
            "Episode:92, Avg Rewards:190.33, Norm of Weights:4.659922122955322\n",
            "Episode:93, Avg Rewards:192.67, Norm of Weights:4.688557147979736\n",
            "Episode:94, Avg Rewards:188.945, Norm of Weights:4.711374282836914\n",
            "Episode:95, Avg Rewards:196.24, Norm of Weights:4.716897964477539\n",
            "Episode:96, Avg Rewards:197.265, Norm of Weights:4.748348712921143\n",
            "Episode:97, Avg Rewards:187.69, Norm of Weights:4.789903163909912\n",
            "Episode:98, Avg Rewards:197.955, Norm of Weights:4.781260967254639\n",
            "Episode:99, Avg Rewards:195.865, Norm of Weights:4.798268795013428\n",
            "Episode:100, Avg Rewards:197.515, Norm of Weights:4.807276725769043\n"
          ],
          "name": "stdout"
        }
      ]
    },
    {
      "metadata": {
        "id": "q3aKm7iv9oKR",
        "colab_type": "code",
        "colab": {
          "base_uri": "https://localhost:8080/",
          "height": 282
        },
        "outputId": "bb0b23ea-2b7a-4f00-b3b7-eb3348e8a88b"
      },
      "cell_type": "code",
      "source": [
        "import matplotlib.pyplot as plt\n",
        "%matplotlib inline\n",
        "plt.plot(avg_rewards)\n"
      ],
      "execution_count": 9,
      "outputs": [
        {
          "output_type": "execute_result",
          "data": {
            "text/plain": [
              "[<matplotlib.lines.Line2D at 0x7ff397bb15c0>]"
            ]
          },
          "metadata": {
            "tags": []
          },
          "execution_count": 9
        },
        {
          "output_type": "display_data",
          "data": {
            "image/png": "[encoded data removed]",
            "text/plain": [
              "<matplotlib.figure.Figure at 0x7ff39e3cef98>"
            ]
          },
          "metadata": {
            "tags": []
          }
        }
      ]
    },
    {
      "metadata": {
        "id": "bYyWxrCeMGCn",
        "colab_type": "code",
        "colab": {}
      },
      "cell_type": "code",
      "source": [
        ""
      ],
      "execution_count": 0,
      "outputs": []
    }
  ]
}