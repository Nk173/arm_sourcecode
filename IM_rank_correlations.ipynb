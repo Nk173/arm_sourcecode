{
 "cells": [
  {
   "cell_type": "code",
   "execution_count": 1,
   "metadata": {
    "collapsed": true
   },
   "outputs": [],
   "source": [
    "import numpy as np\n",
    "# import pandas as pd\n",
    "from scipy.stats import spearmanr\n",
    "from scipy.cluster import hierarchy\n",
    "from scipy.spatial.distance import pdist, squareform\n",
    "import matplotlib.pyplot as plt\n",
    "import seaborn as sns"
   ]
  },
  {
   "cell_type": "code",
   "execution_count": 2,
   "metadata": {
    "collapsed": false
   },
   "outputs": [],
   "source": [
    "def generate_contingency_tables(vals):\n",
    "    tables = np.zeros(shape=(vals.size**4,4));\n",
    "    i = 0;\n",
    "    for tp in vals:\n",
    "        for tn in vals:\n",
    "            for fp in vals:\n",
    "                for fn in vals:\n",
    "                    tables[i] = [tp,tn,fp,fn];\n",
    "                    i += 1;\n",
    "    return tables;"
   ]
  },
  {
   "cell_type": "code",
   "execution_count": 3,
   "metadata": {
    "collapsed": true
   },
   "outputs": [],
   "source": [
    "# takes mxn\n",
    "def return_ranks(scores_array):\n",
    "    temp = np.argsort(scores_array)[::-1];\n",
    "\n",
    "    ranks_array = np.empty(len(scores_array), float);\n",
    "#   Assigning ranks to the scores according to the order in 'temp' array (descending score)\n",
    "    ranks_array[temp] = np.arange(len(scores_array));\n",
    "#   Assigning nan ranks to nan scores\n",
    "    ranks_array[np.isnan(scores_array)] = np.nan;\n",
    "\n",
    "    unique, counts = np.unique(scores_array[~np.isnan(scores_array)], return_counts=True);\n",
    "#     print(unique)\n",
    "\n",
    "# Handle ties by assigning averaged values to the tied scores\n",
    "    for idx,u in enumerate(unique):\n",
    "        ranks_array[scores_array==u] = ranks_array[scores_array==u].sum()/counts[idx];\n",
    "    return ranks_array"
   ]
  },
  {
   "cell_type": "code",
   "execution_count": null,
   "metadata": {
    "collapsed": false
   },
   "outputs": [],
   "source": []
  },
  {
   "cell_type": "code",
   "execution_count": 4,
   "metadata": {
    "collapsed": false
   },
   "outputs": [],
   "source": [
    "def compute_ranks(ranks, scores):\n",
    "    for idx,score in enumerate(scores.T):\n",
    "    #     print(score)\n",
    "        ranks[:,idx] = return_ranks(score);\n",
    "    return ranks;"
   ]
  },
  {
   "cell_type": "code",
   "execution_count": 5,
   "metadata": {
    "collapsed": false,
    "scrolled": false
   },
   "outputs": [],
   "source": [
    "def show_correlation_matrix(ranks_matrix):\n",
    "#     ranks_matrix - mxn matrix where m are observations\n",
    "    dist_spearman = spearmanr(ranks_matrix);\n",
    "    plt.figure(figsize=(10,10));\n",
    "    sns.heatmap(dist_spearman.correlation, vmin=0, vmax=1, cmap='YlGnBu');\n",
    "    plt.show()\n",
    "\n",
    "def show_dendrogram(ranks_matrix):\n",
    "#     ranks_matrix - mxn matrix where m are observations\n",
    "    Y = pdist(ranks_matrix.T, 'correlation');\n",
    "    Z = hierarchy.linkage(squareform(Y), method='complete');\n",
    "    plt.figure(figsize=(10,10));\n",
    "    hierarchy.dendrogram(Z, orientation='right', color_threshold=1)\n",
    "    plt.show()"
   ]
  },
  {
   "cell_type": "code",
   "execution_count": 6,
   "metadata": {
    "collapsed": false,
    "scrolled": false
   },
   "outputs": [],
   "source": [
    "class contingency_table(object):\n",
    "    def __init__(self, table = np.array([]), n_measures = 0):\n",
    "        self.table = table;\n",
    "        self.scores = np.zeros(n_measures);\n",
    "#         self.ranks = np.zeros();\n",
    "        \n",
    "    def compute_probabilities(self):\n",
    "        self.f11 = self.table[0];\n",
    "        self.f10 = self.table[1];\n",
    "        self.f01 = self.table[2];\n",
    "        self.f00 = self.table[3];\n",
    "        self.N = sum(self.table);\n",
    "        \n",
    "        self.P_a = (self.f11 + self.f10)/self.N;\n",
    "        self.P_b = (self.f11 + self.f01)/self.N;\n",
    "        self.P_aprime = 1 - self.P_a;\n",
    "        self.P_bprime = 1 - self.P_b;\n",
    "\n",
    "        \n",
    "        self.P_ab = self.f11/self.N;\n",
    "        self.P_abprime = self.f10/self.N;\n",
    "        self.P_aprimeb = self.f01/self.N;\n",
    "        self.P_aprimebprime = self.f00/self.N;\n",
    "\n",
    "        self.P_agivenb = self.P_ab / self.P_b;\n",
    "        self.P_bgivena = self.P_ab / self.P_a;\n",
    "        self.P_bgivenaprime = self.P_aprimeb / self.P_aprime;\n",
    "    \n",
    "    def compute_scores(self):\n",
    "        self.compute_probabilities();\n",
    "        self.scores[0] = self.recall();\n",
    "        self.scores[1] = self.precision();\n",
    "        self.scores[2] = self.confidence();\n",
    "        self.scores[3] = self.mutual_information();\n",
    "        self.scores[4] = self.jaccard();\n",
    "        self.scores[5] = self.f_measure();\n",
    "        self.scores[6] = self.odds_ratio();\n",
    "        self.scores[7] = self.specificity();\n",
    "        self.scores[8] = self.negative_reliability();\n",
    "        self.scores[9] = self.sebag_schoenauer();\n",
    "        self.scores[10] = self.accuracy();\n",
    "        self.scores[11] = self.support();\n",
    "        self.scores[12] = self.confidence_causal();\n",
    "        self.scores[13] = self.lift();\n",
    "        self.scores[14] = self.ganascia();\n",
    "        self.scores[15] = self.kulczynsky_1();\n",
    "        self.scores[16] = self.coverage();\n",
    "        self.scores[17] = self.prevalence();\n",
    "        self.scores[18] = self.relative_risk();\n",
    "        self.scores[19] = self.piatetsky_shapiro();\n",
    "        self.scores[20] = self.novelty();\n",
    "        self.scores[21] = self.yules_q();\n",
    "        self.scores[22] = self.yules_y();\n",
    "        self.scores[23] = self.cosine();\n",
    "        self.scores[24] = self.least_contradiction();\n",
    "        self.scores[25] = self.odd_multiplier();\n",
    "        self.scores[26] = self.confirm_descriptive();\n",
    "        self.scores[27] = self.confirm_causal();\n",
    "        self.scores[28] = self.certainty_factor();\n",
    "        self.scores[29] = self.loevinger();\n",
    "        self.scores[30] = self.conviction();\n",
    "        self.scores[31] = self.information_gain();\n",
    "        self.scores[32] = self.laplace_correction();\n",
    "        self.scores[33] = self.klosgen();\n",
    "        self.scores[34] = self.zhang();\n",
    "        self.scores[35] = self.normalized_mutual_information();\n",
    "        self.scores[36] = self.one_way_support();\n",
    "        self.scores[37] = self.two_way_support();\n",
    "        self.scores[38] = self.implication_index();\n",
    "    \n",
    "    def recall (self):\n",
    "        if (self.f11 + self.f01) == 0:\n",
    "            return np.nan\n",
    "        else:\n",
    "            return self.f11 / (self.f11 + self.f01);\n",
    "\n",
    "    def precision (self):\n",
    "        if (self.f11 + self.f10) == 0:\n",
    "            return np.nan;\n",
    "        else:\n",
    "            return self.f11/(self.f11 + self.f10);\n",
    "    \n",
    "    def confidence (self):\n",
    "        return self.precision();\n",
    "    \n",
    "    def mutual_information(self):\n",
    "        if self.f11 != 0 and self.f00 != 0 and self.f01 != 0 and self.f10 != 0:\n",
    "            MI = self.P_ab * np.log2(self.P_ab/(self.P_a * self.P_b))\n",
    "            + self.P_abprime * np.log2(self.P_abprime/(self.P_a * self.P_bprime))\n",
    "            + self.P_aprimeb * np.log2(self.P_aprimeb/(self.P_aprime * self.P_b))\n",
    "            + self.P_aprimebprime * np.log2(self.P_aprimebprime/(self.P_aprime * self.P_bprime));        \n",
    "            return MI/self.N;\n",
    "        else:\n",
    "            return np.nan;\n",
    "\n",
    "    def jaccard (self):\n",
    "        if (self.f11 + self.f10 + self.f01) == 0:\n",
    "            return np.nan;\n",
    "        else:\n",
    "            J = self.f11 / (self.f11 + self.f10 + self.f01);\n",
    "            return J;\n",
    "\n",
    "    def f_measure (self):\n",
    "        if self.P_agivenb + self.P_bgivena == 0:\n",
    "            return np.nan;\n",
    "        else:\n",
    "            FM = (2 * self.P_agivenb * self.P_bgivena) / (self.P_agivenb + self.P_bgivena);\n",
    "            return FM;\n",
    "    \n",
    "    def odds_ratio(self):\n",
    "        OR = (self.f11 * self.f00)/(self.f01 * self.f10);\n",
    "        return OR;\n",
    "\n",
    "    def specificity(self):\n",
    "        den = self.f00 + self.f01;\n",
    "        if den != 0:\n",
    "            return self.f00/den;\n",
    "        else:\n",
    "            return np.nan;\n",
    "    \n",
    "    def negative_reliability(self):\n",
    "        return self.specificity();\n",
    "\n",
    "    def sebag_schoenauer(self):\n",
    "        if self.f10:\n",
    "            return self.f11/self.f10;\n",
    "        else:\n",
    "            return np.nan;\n",
    "        \n",
    "    def accuracy(self):\n",
    "        if self.N:\n",
    "            return (self.f11 + self.f00)/self.N;\n",
    "        else:\n",
    "            return np.nan;\n",
    "\n",
    "    def support(self):\n",
    "        return self.f11/self.N;\n",
    "\n",
    "    def confidence_causal(self):\n",
    "        CC = (self.f11 / (self.f11 + self.f10)) + (self.f00 / (self.f00 + self.f10));\n",
    "        return CC/2;\n",
    "\n",
    "    def lift(self):\n",
    "        return (self.f11 * self.N)/((self.f11 + self.f10) * (self.f11 + self.f01));\n",
    "\n",
    "    def ganascia(self):\n",
    "        G = 2 * self.P_bgivena - 1;\n",
    "        return G;\n",
    "\n",
    "    def kulczynsky_1 (self):\n",
    "        K = self.f11 / (self.f10 + self.f01);\n",
    "        return K;\n",
    "\n",
    "    def coverage(self):\n",
    "        return self.P_a;\n",
    "\n",
    "    def prevalence(self):\n",
    "        return self.P_b;\n",
    "\n",
    "    def relative_risk(self):\n",
    "        RR = self.P_bgivena / self.P_bgivenaprime;\n",
    "        return RR;\n",
    "\n",
    "    def piatetsky_shapiro(self):\n",
    "        return self.P_ab - self.P_a * self.P_b;\n",
    "\n",
    "    def novelty(self):\n",
    "        return self.piatetsky_shapiro();\n",
    "\n",
    "    def yules_q(self):\n",
    "        YQ = (self.f11 * self.f00 - self.f10 * self.f01) / (self.f11 * self.f00 + self.f10 * self.f01);\n",
    "        return YQ;\n",
    "\n",
    "    def yules_y(self):\n",
    "        YY = (np.sqrt(self.f11 * self.f00) - np.sqrt(self.f10 * self.f01)) / (np.sqrt(self.f11 * self.f00) + np.sqrt(self.f10 * self.f01));\n",
    "        return YY;\n",
    "\n",
    "    def cosine(self):\n",
    "        cosine = self.P_ab / np.sqrt(self.P_a * self.P_b);\n",
    "        return cosine;\n",
    "\n",
    "    def least_contradiction(self):\n",
    "        LC = (self.f11 - self.f10) / (self.f11 + self.f01);\n",
    "        return LC;\n",
    "\n",
    "    def odd_multiplier(self):\n",
    "        OM = (self.P_ab * self.P_bprime) / (self.P_b * self.P_abprime);\n",
    "        return OM;\n",
    "\n",
    "    def confirm_descriptive(self):\n",
    "        CD = self.P_ab - self.P_abprime;\n",
    "        return CD;\n",
    "\n",
    "    def confirm_causal(self):\n",
    "        CC = self.P_ab + self.P_aprimeb - 2 * self.P_abprime;\n",
    "        return CC;\n",
    "\n",
    "    def certainty_factor(self):\n",
    "        CF = 1 - self.P_abprime / (self.P_a * self.P_bprime)\n",
    "        return CF;\n",
    "    \n",
    "    def loevinger(self):\n",
    "        return self.certainty_factor();\n",
    "\n",
    "    def conviction(self):\n",
    "        conviction = (self.P_a * self.P_bprime) / self.P_abprime;\n",
    "        return conviction;\n",
    "\n",
    "    def information_gain(self):\n",
    "        IG = np.log2(self.P_ab / (self.P_a * self.P_b));\n",
    "        return IG;\n",
    "\n",
    "    def laplace_correction(self):\n",
    "        k = 2;\n",
    "        LC = (self.f11 + 1) / (self.f11 + self.f10 + k);\n",
    "        return LC;\n",
    "\n",
    "    def klosgen(self):\n",
    "        KL = np.sqrt(self.P_a) * (self.P_bgivena - self.P_b);\n",
    "        return KL;\n",
    "\n",
    "    def zhang(self):\n",
    "        den_1 = self.P_ab * (1 - self.P_b);\n",
    "        den_2 = self.P_b * (self.P_a - self.P_ab);\n",
    "        if den_1 > den_2:\n",
    "            ZH = (self.P_ab - self.P_a * self.P_b)/den_1;\n",
    "        else:\n",
    "            ZH = (self.P_ab - self.P_a * self.P_b)/den_2;\n",
    "        return ZH;\n",
    "\n",
    "    def normalized_mutual_information(self):\n",
    "        MI = self.mutual_information();\n",
    "        NMI = MI / (-self.P_a * np.log2(self.P_a) - self.P_aprime * np.log2(self.P_aprime));\n",
    "        return NMI;\n",
    "\n",
    "    def one_way_support(self):\n",
    "        OWS = self.P_bgivena * np.log2(self.P_bgivena / self.P_b);\n",
    "        return OWS\n",
    "\n",
    "    def two_way_support(self):\n",
    "        TWS = self.P_ab * np.log2(self.P_bgivena / self.P_b);\n",
    "        return TWS;\n",
    "\n",
    "    def implication_index(self):\n",
    "        prod = self.P_a * self.P_bprime; \n",
    "        IIN = np.sqrt(self.N) * (self.P_abprime - prod) / np.sqrt(prod);\n",
    "        return IIN;"
   ]
  },
  {
   "cell_type": "code",
   "execution_count": 7,
   "metadata": {
    "collapsed": false
   },
   "outputs": [
    {
     "data": {
      "image/png": "[encoded data removed]",
      "text/plain": [
       "<matplotlib.figure.Figure at 0x115613a58>"
      ]
     },
     "metadata": {},
     "output_type": "display_data"
    },
    {
     "data": {
      "image/png": "[encoded data removed]",
      "text/plain": [
       "<matplotlib.figure.Figure at 0x115613780>"
      ]
     },
     "metadata": {},
     "output_type": "display_data"
    }
   ],
   "source": [
    "vals = np.array([1,2,11,100,1000,10000]);\n",
    "tables = generate_contingency_tables(vals);\n",
    "\n",
    "n_measures = 39;\n",
    "\n",
    "scores_matrix = np.zeros(shape=(1296,n_measures));\n",
    "\n",
    "for idx,table in enumerate(tables):\n",
    "    t = contingency_table(table, n_measures);\n",
    "    t.compute_scores();\n",
    "    scores_matrix[idx] = t.scores;\n",
    "    \n",
    "ranks = np.zeros(shape = scores_matrix.shape)\n",
    "ranks = compute_ranks(ranks, scores_matrix);\n",
    "\n",
    "show_correlation_matrix(ranks);\n",
    "show_dendrogram(ranks);"
   ]
  },
  {
   "cell_type": "code",
   "execution_count": null,
   "metadata": {
    "collapsed": false
   },
   "outputs": [],
   "source": []
  },
  {
   "cell_type": "code",
   "execution_count": null,
   "metadata": {
    "collapsed": false
   },
   "outputs": [],
   "source": []
  },
  {
   "cell_type": "code",
   "execution_count": null,
   "metadata": {
    "collapsed": false
   },
   "outputs": [],
   "source": []
  },
  {
   "cell_type": "code",
   "execution_count": null,
   "metadata": {
    "collapsed": false
   },
   "outputs": [],
   "source": []
  },
  {
   "cell_type": "code",
   "execution_count": null,
   "metadata": {
    "collapsed": false
   },
   "outputs": [],
   "source": []
  },
  {
   "cell_type": "code",
   "execution_count": null,
   "metadata": {
    "collapsed": false
   },
   "outputs": [],
   "source": []
  },
  {
   "cell_type": "code",
   "execution_count": null,
   "metadata": {
    "collapsed": false,
    "scrolled": false
   },
   "outputs": [],
   "source": []
  },
  {
   "cell_type": "code",
   "execution_count": null,
   "metadata": {
    "collapsed": false
   },
   "outputs": [],
   "source": []
  },
  {
   "cell_type": "code",
   "execution_count": null,
   "metadata": {
    "collapsed": false
   },
   "outputs": [],
   "source": []
  },
  {
   "cell_type": "code",
   "execution_count": null,
   "metadata": {
    "collapsed": false
   },
   "outputs": [],
   "source": []
  },
  {
   "cell_type": "code",
   "execution_count": null,
   "metadata": {
    "collapsed": false
   },
   "outputs": [],
   "source": []
  },
  {
   "cell_type": "code",
   "execution_count": null,
   "metadata": {
    "collapsed": false,
    "scrolled": false
   },
   "outputs": [],
   "source": []
  },
  {
   "cell_type": "code",
   "execution_count": null,
   "metadata": {
    "collapsed": false
   },
   "outputs": [],
   "source": []
  },
  {
   "cell_type": "code",
   "execution_count": null,
   "metadata": {
    "collapsed": true
   },
   "outputs": [],
   "source": []
  },
  {
   "cell_type": "code",
   "execution_count": null,
   "metadata": {
    "collapsed": true
   },
   "outputs": [],
   "source": []
  }
 ],
 "metadata": {
  "anaconda-cloud": {},
  "kernelspec": {
   "display_name": "Python 3",
   "language": "python",
   "name": "python3"
  },
  "language_info": {
   "codemirror_mode": {
    "name": "ipython",
    "version": 3
   },
   "file_extension": ".py",
   "mimetype": "text/x-python",
   "name": "python",
   "nbconvert_exporter": "python",
   "pygments_lexer": "ipython3",
   "version": "3.5.2"
  }
 },
 "nbformat": 4,
 "nbformat_minor": 1
}
