{
 "cells": [
  {
   "cell_type": "code",
   "execution_count": 50,
   "metadata": {
    "collapsed": true
   },
   "outputs": [],
   "source": [
    "import numpy as np\n",
    "import pandas as pd\n",
    "from scipy.stats import spearmanr\n",
    "from scipy.cluster import hierarchy\n",
    "from scipy.spatial.distance import pdist, squareform\n",
    "import matplotlib.pyplot as plt\n",
    "import seaborn as sns"
   ]
  },
  {
   "cell_type": "code",
   "execution_count": 3,
   "metadata": {
    "collapsed": false
   },
   "outputs": [],
   "source": [
    "# vals = np.array([0,1,10,100,1000,10000])\n",
    "vals = np.array([1,2,11,100,1000,10000]);\n",
    "\n",
    "tables = np.zeros(shape=(1296,4));\n",
    "i = 0;\n",
    "for tp in vals:\n",
    "    for tn in vals:\n",
    "        for fp in vals:\n",
    "            for fn in vals:\n",
    "                tables[i] = [tp,tn,fp,fn];\n",
    "                i += 1;"
   ]
  },
  {
   "cell_type": "code",
   "execution_count": 4,
   "metadata": {
    "collapsed": true
   },
   "outputs": [],
   "source": [
    "def return_ranks(scores_array):\n",
    "    temp = np.argsort(scores_array)[::-1];\n",
    "\n",
    "#sorting only considering non-nan values\n",
    "#     temp = np.argsort(scores_array[~np.isnan(scores_array)])[::-1];\n",
    "\n",
    "    ranks_array = np.empty(len(scores_array), float);\n",
    "#   Assigning ranks to the scores according to the order in 'temp' array (descending score)\n",
    "    ranks_array[temp] = np.arange(len(scores_array));\n",
    "#   Assigning nan ranks to nan scores\n",
    "    ranks_array[np.isnan(scores_array)] = np.nan;\n",
    "\n",
    "    unique, counts = np.unique(scores_array[~np.isnan(scores_array)], return_counts=True);\n",
    "#     print(unique)\n",
    "\n",
    "# Handle ties by assigning averaged values to the tied scores\n",
    "    for idx,u in enumerate(unique):\n",
    "        ranks_array[scores_array==u] = ranks_array[scores_array==u].sum()/counts[idx];\n",
    "    return ranks_array"
   ]
  },
  {
   "cell_type": "code",
   "execution_count": 5,
   "metadata": {
    "collapsed": true
   },
   "outputs": [],
   "source": [
    "def recall (contingency_table):\n",
    "    f11 = contingency_table[0];\n",
    "    f10 = contingency_table[1];\n",
    "    f01 = contingency_table[2];\n",
    "    f00 = contingency_table[3];\n",
    "    num = f11;\n",
    "    den = f11 + f01;\n",
    "    if den == 0:\n",
    "        return np.nan;\n",
    "    else:\n",
    "        return num/den;\n",
    "def precision (contingency_table):\n",
    "    f11 = contingency_table[0];\n",
    "    f10 = contingency_table[1];\n",
    "    f01 = contingency_table[2];\n",
    "    f00 = contingency_table[3];\n",
    "    num = f11;\n",
    "    den = f11 + f10;\n",
    "    if den == 0:\n",
    "        return np.nan;\n",
    "    else:\n",
    "        return num/den;\n",
    "confidence = precision;\n",
    "\n",
    "def mutual_information(contingency_table):\n",
    "    f11 = contingency_table[0];\n",
    "    f10 = contingency_table[1];\n",
    "    f01 = contingency_table[2];\n",
    "    f00 = contingency_table[3];\n",
    "    N = f11 + f00 + f10 + f01;\n",
    "    if f11 != 0 and f00 != 0 and f01 != 0 and f10 != 0:\n",
    "        MI = f11 * np.log2((f11 * N)/((f11 + f10)*(f11 + f01)))\n",
    "        + f10 * np.log2((f10 * N)/((f11 + f10)*(f10 + f00))) \n",
    "        + f01 * np.log2((f01 * N)/((f01 + f00)*(f11 + f01)))\n",
    "        + f00 * np.log2((f00 * N)/((f01 + f00)*(f10 + f00)));\n",
    "        return MI/N;\n",
    "    else:\n",
    "        return np.nan;\n",
    "\n",
    "def jaccard (contingency_table):\n",
    "    f11 = contingency_table[0];\n",
    "    f10 = contingency_table[1];\n",
    "    f01 = contingency_table[2];\n",
    "    f00 = contingency_table[3];\n",
    "    N = f11 + f00 + f10 + f01;\n",
    "    if (f11 + f10 + f01) == 0:\n",
    "        return np.nan;\n",
    "    else:\n",
    "        J = f11 / (f11 + f10 + f01);\n",
    "        return J;\n",
    "\n",
    "def f_measure (contingency_table):\n",
    "    f11 = contingency_table[0];\n",
    "    f10 = contingency_table[1];\n",
    "    f01 = contingency_table[2];\n",
    "    f00 = contingency_table[3];\n",
    "    N = f11 + f00 + f10 + f01;\n",
    "\n",
    "    if f11 == 0:\n",
    "        return np.nan;\n",
    "    else:\n",
    "    #     P_(a given b)\n",
    "        P_agb = f11 / (f11 + f01);\n",
    "    #     P_(b given a)\n",
    "        P_bga = f11 / (f11 + f10);\n",
    "\n",
    "        FM = (2*P_agb*P_bga) / (P_agb + P_bga);\n",
    "        return FM;\n",
    "    \n",
    "def odds_ratio(contingency_table):\n",
    "    f11 = contingency_table[0];\n",
    "    f10 = contingency_table[1];\n",
    "    f01 = contingency_table[2];\n",
    "    f00 = contingency_table[3];\n",
    "    OR = (f11 * f00)/(f01 * f10);\n",
    "    return OR;\n",
    "\n",
    "def specificity(contingency_table):\n",
    "    f11 = contingency_table[0];\n",
    "#     f10 = contingency_table[1];\n",
    "    f01 = contingency_table[2];\n",
    "    f00 = contingency_table[3];\n",
    "    den = f00 + f01;\n",
    "    if den != 0:\n",
    "        return f00/den;\n",
    "    else:\n",
    "        return np.nan;\n",
    "negative_reliability = specificity;\n",
    "\n",
    "def sebag_schoenauer(contingency_table):\n",
    "    f11 = contingency_table[0];\n",
    "    f10 = contingency_table[1];\n",
    "    if f10:\n",
    "        return f11/f10;\n",
    "    else:\n",
    "        return np.nan;\n",
    "def accuracy(contingency_table):\n",
    "    f11 = contingency_table[0];\n",
    "    f10 = contingency_table[1];\n",
    "    f01 = contingency_table[2];\n",
    "    f00 = contingency_table[3];\n",
    "    N = f11 + f00 + f10 + f01;\n",
    "    if N:\n",
    "        return (f11 + f00)/N;\n",
    "    else:\n",
    "        return np.nan;\n",
    "    \n",
    "def support(contingency_table):\n",
    "    return contingency_table[0];\n",
    "\n",
    "def confidence_causal(contingency_table):\n",
    "    f11 = contingency_table[0];\n",
    "    f10 = contingency_table[1];\n",
    "    f01 = contingency_table[2];\n",
    "    f00 = contingency_table[3];\n",
    "#     N = f11 + f00 + f10 + f01;\n",
    "    CC = (f11/(f11+f10)) + (f00/(f00+f10));\n",
    "    return CC/2;\n",
    "\n",
    "def lift(contingency_table):\n",
    "    f11 = contingency_table[0];\n",
    "    f10 = contingency_table[1];\n",
    "    f01 = contingency_table[2];\n",
    "    f00 = contingency_table[3];\n",
    "    N = f11 + f00 + f10 + f01;\n",
    "    return (f11 * N)/((f11 + f10) * (f11 + f01));\n",
    "\n",
    "def ganascia(contingency_table):\n",
    "    f11 = contingency_table[0];\n",
    "    f10 = contingency_table[1];\n",
    "#     f01 = contingency_table[2];\n",
    "#     f00 = contingency_table[3];\n",
    "#     N = f11 + f00 + f10 + f01;\n",
    "    G = (f11 - f10) / (f11 + f10);\n",
    "    return G;\n",
    "\n",
    "def kulczynsky_1 (contingency_table):\n",
    "    f11 = contingency_table[0];\n",
    "    f10 = contingency_table[1];\n",
    "    f01 = contingency_table[2];\n",
    "#     f00 = contingency_table[3];\n",
    "#     N = f11 + f00 + f10 + f01;\n",
    "    K = f11 / (f10 + f01);\n",
    "    return K;"
   ]
  },
  {
   "cell_type": "code",
   "execution_count": 12,
   "metadata": {
    "collapsed": false
   },
   "outputs": [],
   "source": [
    "scores = np.zeros(shape=(1296,16));\n",
    "\n",
    "# idxt - index of a contingency table\n",
    "for idxt,table in enumerate(tables):\n",
    "    scores[idxt,0] = recall(table);\n",
    "    scores[idxt,1] = precision(table);\n",
    "    scores[idxt,2] = confidence(table);\n",
    "    scores[idxt,3] = mutual_information(table);\n",
    "    scores[idxt,4] = jaccard(table);\n",
    "    scores[idxt,5] = f_measure(table);\n",
    "    scores[idxt,6] = odds_ratio(table);\n",
    "    scores[idxt,7] = specificity(table);\n",
    "    scores[idxt,8] = negative_reliability(table);\n",
    "    scores[idxt,9] = sebag_schoenauer(table);\n",
    "    scores[idxt,10] = accuracy(table);\n",
    "    scores[idxt,11] = support(table);\n",
    "    scores[idxt,12] = confidence_causal(table);\n",
    "    scores[idxt,13] = lift(table);\n",
    "    scores[idxt,14] = ganascia(table);\n",
    "    scores[idxt,15] = kulczynsky_1(table);"
   ]
  },
  {
   "cell_type": "code",
   "execution_count": 62,
   "metadata": {
    "collapsed": false
   },
   "outputs": [],
   "source": [
    "ranks = np.zeros(shape = scores.shape)\n",
    "for idx,score in enumerate(scores.T):\n",
    "#     print(score)\n",
    "    ranks[:,idx] = return_ranks(score);"
   ]
  },
  {
   "cell_type": "code",
   "execution_count": 126,
   "metadata": {
    "collapsed": false
   },
   "outputs": [],
   "source": [
    "dist_spearman = spearmanr(ranks);\n",
    "\n",
    "Y = pdist(ranks.T, 'correlation');\n",
    "Z = hierarchy.linkage(squareform(Y), method='complete');"
   ]
  },
  {
   "cell_type": "code",
   "execution_count": null,
   "metadata": {
    "collapsed": false
   },
   "outputs": [],
   "source": []
  },
  {
   "cell_type": "code",
   "execution_count": null,
   "metadata": {
    "collapsed": false,
    "scrolled": false
   },
   "outputs": [],
   "source": []
  },
  {
   "cell_type": "code",
   "execution_count": null,
   "metadata": {
    "collapsed": false
   },
   "outputs": [],
   "source": []
  },
  {
   "cell_type": "code",
   "execution_count": null,
   "metadata": {
    "collapsed": false
   },
   "outputs": [],
   "source": []
  },
  {
   "cell_type": "code",
   "execution_count": 127,
   "metadata": {
    "collapsed": false
   },
   "outputs": [
    {
     "data": {
      "image/png": "[encoded data removed]",
      "text/plain": [
       "<matplotlib.figure.Figure at 0x116b73b38>"
      ]
     },
     "metadata": {},
     "output_type": "display_data"
    }
   ],
   "source": [
    "cmap = sns.diverging_palette(220, 10, as_cmap=True);\n",
    "sns.heatmap(dist_spearman.correlation, cmap=cmap)\n",
    "plt.show()"
   ]
  },
  {
   "cell_type": "code",
   "execution_count": 128,
   "metadata": {
    "collapsed": false
   },
   "outputs": [
    {
     "data": {
      "image/png": "[encoded data removed]",
      "text/plain": [
       "<matplotlib.figure.Figure at 0x1188566a0>"
      ]
     },
     "metadata": {},
     "output_type": "display_data"
    }
   ],
   "source": [
    "hierarchy.dendrogram(Z, color_threshold=1)\n",
    "plt.show()"
   ]
  },
  {
   "cell_type": "code",
   "execution_count": null,
   "metadata": {
    "collapsed": true
   },
   "outputs": [],
   "source": []
  }
 ],
 "metadata": {
  "anaconda-cloud": {},
  "kernelspec": {
   "display_name": "Python 3",
   "language": "python",
   "name": "python3"
  },
  "language_info": {
   "codemirror_mode": {
    "name": "ipython",
    "version": 3
   },
   "file_extension": ".py",
   "mimetype": "text/x-python",
   "name": "python",
   "nbconvert_exporter": "python",
   "pygments_lexer": "ipython3",
   "version": "3.5.2"
  }
 },
 "nbformat": 4,
 "nbformat_minor": 1
}
