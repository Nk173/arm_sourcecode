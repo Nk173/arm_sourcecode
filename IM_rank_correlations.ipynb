{
 "cells": [
  {
   "cell_type": "code",
   "execution_count": 20,
   "metadata": {
    "collapsed": true
   },
   "outputs": [],
   "source": [
    "import numpy as np\n",
    "import pandas as pd\n",
    "from scipy.stats import spearmanr\n",
    "from scipy.cluster import hierarchy\n",
    "from scipy.spatial.distance import pdist\n",
    "import matplotlib.pyplot as plt"
   ]
  },
  {
   "cell_type": "code",
   "execution_count": 70,
   "metadata": {
    "collapsed": false
   },
   "outputs": [],
   "source": [
    "vals = np.array([0,1,10,100,1000,10000])\n",
    "\n",
    "\n",
    "tables = np.zeros(shape=(1296,4));\n",
    "i = 0;\n",
    "for tp in vals:\n",
    "    for tn in vals:\n",
    "        for fp in vals:\n",
    "            for fn in vals:\n",
    "                tables[i] = [tp,tn,fp,fn];\n",
    "                i += 1;"
   ]
  },
  {
   "cell_type": "code",
   "execution_count": 71,
   "metadata": {
    "collapsed": true
   },
   "outputs": [],
   "source": [
    "def return_ranks(scores_array):\n",
    "    temp = np.argsort(scores_array)[::-1];\n",
    "    ranks = np.empty(len(scores_array), float);\n",
    "    ranks[temp] = np.arange(len(scores_array));\n",
    "    ranks[np.isnan(scores_array)] = np.nan;\n",
    "    unique, counts = np.unique(scores_array[~np.isnan(scores_array)], return_counts=True);\n",
    "#     print(unique)\n",
    "    for idx,u in enumerate(unique):\n",
    "        ranks[scores_array==u] = ranks[scores_array==u].sum()/counts[idx];\n",
    "    return ranks"
   ]
  },
  {
   "cell_type": "code",
   "execution_count": 72,
   "metadata": {
    "collapsed": false
   },
   "outputs": [],
   "source": [
    "def recall (contingency_table):\n",
    "    f11 = contingency_table[0];\n",
    "    f10 = contingency_table[1];\n",
    "    f01 = contingency_table[2];\n",
    "    f00 = contingency_table[3];\n",
    "    num = f11;\n",
    "    den = f11 + f01;\n",
    "    if den == 0:\n",
    "        return np.nan;\n",
    "    else:\n",
    "        return num/den;\n",
    "def precision (contingency_table):\n",
    "    f11 = contingency_table[0];\n",
    "    f10 = contingency_table[1];\n",
    "    f01 = contingency_table[2];\n",
    "    f00 = contingency_table[3];\n",
    "    num = f11;\n",
    "    den = f11 + f10;\n",
    "    if den == 0:\n",
    "        return np.nan;\n",
    "    else:\n",
    "        return num/den;"
   ]
  },
  {
   "cell_type": "code",
   "execution_count": 73,
   "metadata": {
    "collapsed": true
   },
   "outputs": [],
   "source": [
    "def mutual_information(contingency_table):\n",
    "    f11 = contingency_table[0];\n",
    "    f10 = contingency_table[1];\n",
    "    f01 = contingency_table[2];\n",
    "    f00 = contingency_table[3];\n",
    "    N = f11 + f00 + f10 + f01;\n",
    "    if f11 != 0 and f00 != 0 and f01 != 0 and f10 != 0:\n",
    "        MI = f11 * np.log2((f11 * N)/((f11 + f10)*(f11 + f01)))\n",
    "        + f10 * np.log2((f10 * N)/((f11 + f10)*(f10 + f00))) \n",
    "        + f01 * np.log2((f01 * N)/((f01 + f00)*(f11 + f01)))\n",
    "        + f00 * np.log2((f00 * N)/((f01 + f00)*(f10 + f00)));\n",
    "        return MI/N;\n",
    "    else:\n",
    "        return np.nan;"
   ]
  },
  {
   "cell_type": "code",
   "execution_count": 74,
   "metadata": {
    "collapsed": true
   },
   "outputs": [],
   "source": [
    "def jaccard (contingency_table):\n",
    "    f11 = contingency_table[0];\n",
    "    f10 = contingency_table[1];\n",
    "    f01 = contingency_table[2];\n",
    "    f00 = contingency_table[3];\n",
    "    N = f11 + f00 + f10 + f01;\n",
    "    if (f11 + f10 + f01) == 0:\n",
    "        return np.nan;\n",
    "    else:\n",
    "        J = f11 / (f11 + f10 + f01);\n",
    "        return J;\n",
    "\n",
    "\n",
    "\n",
    "def f_measure (contingency_table):\n",
    "    f11 = contingency_table[0];\n",
    "    f10 = contingency_table[1];\n",
    "    f01 = contingency_table[2];\n",
    "    f00 = contingency_table[3];\n",
    "    N = f11 + f00 + f10 + f01;\n",
    "\n",
    "    if f11 == 0:\n",
    "        return np.nan;\n",
    "    else:\n",
    "    #     P_(a given b)\n",
    "        P_agb = f11 / (f11 + f01);\n",
    "    #     P_(b given a)\n",
    "        P_bga = f11 / (f11 + f10);\n",
    "\n",
    "        FM = (2*P_agb*P_bga) / (P_agb + P_bga);\n",
    "        return FM;"
   ]
  },
  {
   "cell_type": "code",
   "execution_count": 108,
   "metadata": {
    "collapsed": false
   },
   "outputs": [],
   "source": [
    "scores = np.zeros(shape=(5,1296));\n",
    "\n",
    "# idxt - index of a contingency table\n",
    "for idxt,table in enumerate(tables):\n",
    "    scores[0,idxt] = precision(table);\n",
    "    scores[1,idxt] = recall(table);\n",
    "    scores[2,idxt] = mutual_information(table);\n",
    "    scores[3,idxt] = jaccard(table);\n",
    "    scores[4,idxt] = f_measure(table);\n",
    "    "
   ]
  },
  {
   "cell_type": "code",
   "execution_count": 109,
   "metadata": {
    "collapsed": false
   },
   "outputs": [],
   "source": [
    "ranks = np.zeros(shape = scores.shape)\n",
    "for idx,score in enumerate(scores):\n",
    "#     print(score)\n",
    "    ranks[idx] = return_ranks(score);"
   ]
  },
  {
   "cell_type": "code",
   "execution_count": 110,
   "metadata": {
    "collapsed": false
   },
   "outputs": [],
   "source": [
    "dist_spearman = spearmanr(ranks.transpose());\n",
    "dist_corr = pdist(ranks.transpose(), metric='correlation')"
   ]
  },
  {
   "cell_type": "code",
   "execution_count": 111,
   "metadata": {
    "collapsed": false
   },
   "outputs": [],
   "source": [
    "# dist_spearman.correlation\n",
    "Z = hierarchy.complete(np.triu(dist_spearman.correlation))"
   ]
  },
  {
   "cell_type": "code",
   "execution_count": 112,
   "metadata": {
    "collapsed": false
   },
   "outputs": [
    {
     "data": {
      "text/plain": [
       "(array([[ 1.        ,  0.55789266,  0.02699055,  0.84552744,  0.8428018 ],\n",
       "        [ 0.55789266,  1.        ,  0.06570131,  0.84552861,  0.8435622 ],\n",
       "        [ 0.02699055,  0.06570131,  1.        ,  0.13912309,  0.13636469],\n",
       "        [ 0.84552744,  0.84552861,  0.13912309,  1.        ,  0.99745933],\n",
       "        [ 0.8428018 ,  0.8435622 ,  0.13636469,  0.99745933,  1.        ]]),\n",
       " array([[ 3.        ,  4.        ,  1.00000323,  2.        ],\n",
       "        [ 0.        ,  1.        ,  1.09405576,  2.        ],\n",
       "        [ 5.        ,  6.        ,  1.43234096,  4.        ],\n",
       "        [ 2.        ,  7.        ,  1.80445341,  5.        ]]))"
      ]
     },
     "execution_count": 112,
     "metadata": {},
     "output_type": "execute_result"
    }
   ],
   "source": [
    "\n",
    "dist_spearman.correlation,Z"
   ]
  },
  {
   "cell_type": "code",
   "execution_count": 113,
   "metadata": {
    "collapsed": false,
    "scrolled": true
   },
   "outputs": [
    {
     "data": {
      "image/png": "[encoded data removed]",
      "text/plain": [
       "<matplotlib.figure.Figure at 0x116e2f588>"
      ]
     },
     "metadata": {},
     "output_type": "display_data"
    }
   ],
   "source": [
    "hierarchy.dendrogram(Z)\n",
    "plt.show()"
   ]
  },
  {
   "cell_type": "code",
   "execution_count": null,
   "metadata": {
    "collapsed": true
   },
   "outputs": [],
   "source": []
  },
  {
   "cell_type": "code",
   "execution_count": null,
   "metadata": {
    "collapsed": true
   },
   "outputs": [],
   "source": []
  },
  {
   "cell_type": "code",
   "execution_count": 114,
   "metadata": {
    "collapsed": false
   },
   "outputs": [
    {
     "data": {
      "text/plain": [
       "0.5"
      ]
     },
     "execution_count": 114,
     "metadata": {},
     "output_type": "execute_result"
    }
   ],
   "source": [
    "cm = np.array([1,2,3,4])\n",
    "cm3 = np.array([4,3,2,1])\n",
    "accuracy(cm)"
   ]
  },
  {
   "cell_type": "code",
   "execution_count": 115,
   "metadata": {
    "collapsed": false
   },
   "outputs": [],
   "source": [
    "def odds_ratio(contingency_table):\n",
    "    f11 = contingency_table[0];\n",
    "    f10 = contingency_table[1];\n",
    "    f01 = contingency_table[2];\n",
    "    f00 = contingency_table[3];\n",
    "    OR = (f11 * f00)/(f01 * f10);\n",
    "    return OR;\n",
    "\n",
    "def specificity(contingency_table):\n",
    "    f11 = contingency_table[0];\n",
    "#     f10 = contingency_table[1];\n",
    "    f01 = contingency_table[2];\n",
    "    f00 = contingency_table[3];\n",
    "    den = f00 + f01;\n",
    "    if den != 0:\n",
    "        return f00/den;\n",
    "    else:\n",
    "        return np.nan;\n",
    "negative_reliability = specificity;\n",
    "\n",
    "def sebag_schoenauer(contingency_table):\n",
    "    f11 = contingency_table[0];\n",
    "    f10 = contingency_table[1];\n",
    "    if f10:\n",
    "        return f11/f10;\n",
    "    else:\n",
    "        return np.nan;\n",
    "def accuracy(contingency_table):\n",
    "    f11 = contingency_table[0];\n",
    "    f10 = contingency_table[1];\n",
    "    f01 = contingency_table[2];\n",
    "    f00 = contingency_table[3];\n",
    "    N = f11 + f00 + f10 + f01;\n",
    "    if N:\n",
    "        return (f11 + f00)/N;\n",
    "    else:\n",
    "        return np.nan;\n",
    "    \n",
    "def support(contingency_table):\n",
    "    return contingency_table[0];\n",
    "\n",
    "def confidence_causal(contingency_table):\n",
    "    f11 = contingency_table[0];\n",
    "    f10 = contingency_table[1];\n",
    "    f01 = contingency_table[2];\n",
    "    f00 = contingency_table[3];\n",
    "#     N = f11 + f00 + f10 + f01;\n",
    "    CC = (f11/(f11+f10)) + (f00/(f00+f10));\n",
    "    return CC/2;"
   ]
  },
  {
   "cell_type": "code",
   "execution_count": null,
   "metadata": {
    "collapsed": true
   },
   "outputs": [],
   "source": []
  }
 ],
 "metadata": {
  "anaconda-cloud": {},
  "kernelspec": {
   "display_name": "Python 3",
   "language": "python",
   "name": "python3"
  },
  "language_info": {
   "codemirror_mode": {
    "name": "ipython",
    "version": 3
   },
   "file_extension": ".py",
   "mimetype": "text/x-python",
   "name": "python",
   "nbconvert_exporter": "python",
   "pygments_lexer": "ipython3",
   "version": "3.5.2"
  }
 },
 "nbformat": 4,
 "nbformat_minor": 1
}
