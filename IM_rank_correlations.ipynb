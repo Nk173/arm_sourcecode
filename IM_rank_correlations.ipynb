{
 "cells": [
  {
   "cell_type": "code",
   "execution_count": 2,
   "metadata": {
    "collapsed": true
   },
   "outputs": [],
   "source": [
    "import numpy as np\n",
    "import pandas as pd\n",
    "from scipy.stats import spearmanr\n",
    "from scipy.cluster import hierarchy\n",
    "from scipy.spatial.distance import pdist\n",
    "import matplotlib.pyplot as plt"
   ]
  },
  {
   "cell_type": "code",
   "execution_count": 3,
   "metadata": {
    "collapsed": false
   },
   "outputs": [],
   "source": [
    "# vals = np.array([0,1,10,100,1000,10000])\n",
    "vals = np.array([1,2,11,100,1000,10000]);\n",
    "\n",
    "tables = np.zeros(shape=(1296,4));\n",
    "i = 0;\n",
    "for tp in vals:\n",
    "    for tn in vals:\n",
    "        for fp in vals:\n",
    "            for fn in vals:\n",
    "                tables[i] = [tp,tn,fp,fn];\n",
    "                i += 1;"
   ]
  },
  {
   "cell_type": "code",
   "execution_count": 4,
   "metadata": {
    "collapsed": true
   },
   "outputs": [],
   "source": [
    "def return_ranks(scores_array):\n",
    "    temp = np.argsort(scores_array)[::-1];\n",
    "\n",
    "#sorting only considering non-nan values\n",
    "#     temp = np.argsort(scores_array[~np.isnan(scores_array)])[::-1];\n",
    "\n",
    "    ranks_array = np.empty(len(scores_array), float);\n",
    "#   Assigning ranks to the scores according to the order in 'temp' array (descending score)\n",
    "    ranks_array[temp] = np.arange(len(scores_array));\n",
    "#   Assigning nan ranks to nan scores\n",
    "    ranks_array[np.isnan(scores_array)] = np.nan;\n",
    "\n",
    "    unique, counts = np.unique(scores_array[~np.isnan(scores_array)], return_counts=True);\n",
    "#     print(unique)\n",
    "\n",
    "# Handle ties by assigning averaged values to the tied scores\n",
    "    for idx,u in enumerate(unique):\n",
    "        ranks_array[scores_array==u] = ranks_array[scores_array==u].sum()/counts[idx];\n",
    "    return ranks_array"
   ]
  },
  {
   "cell_type": "code",
   "execution_count": 5,
   "metadata": {
    "collapsed": true
   },
   "outputs": [],
   "source": [
    "def recall (contingency_table):\n",
    "    f11 = contingency_table[0];\n",
    "    f10 = contingency_table[1];\n",
    "    f01 = contingency_table[2];\n",
    "    f00 = contingency_table[3];\n",
    "    num = f11;\n",
    "    den = f11 + f01;\n",
    "    if den == 0:\n",
    "        return np.nan;\n",
    "    else:\n",
    "        return num/den;\n",
    "def precision (contingency_table):\n",
    "    f11 = contingency_table[0];\n",
    "    f10 = contingency_table[1];\n",
    "    f01 = contingency_table[2];\n",
    "    f00 = contingency_table[3];\n",
    "    num = f11;\n",
    "    den = f11 + f10;\n",
    "    if den == 0:\n",
    "        return np.nan;\n",
    "    else:\n",
    "        return num/den;\n",
    "confidence = precision;\n",
    "\n",
    "def mutual_information(contingency_table):\n",
    "    f11 = contingency_table[0];\n",
    "    f10 = contingency_table[1];\n",
    "    f01 = contingency_table[2];\n",
    "    f00 = contingency_table[3];\n",
    "    N = f11 + f00 + f10 + f01;\n",
    "    if f11 != 0 and f00 != 0 and f01 != 0 and f10 != 0:\n",
    "        MI = f11 * np.log2((f11 * N)/((f11 + f10)*(f11 + f01)))\n",
    "        + f10 * np.log2((f10 * N)/((f11 + f10)*(f10 + f00))) \n",
    "        + f01 * np.log2((f01 * N)/((f01 + f00)*(f11 + f01)))\n",
    "        + f00 * np.log2((f00 * N)/((f01 + f00)*(f10 + f00)));\n",
    "        return MI/N;\n",
    "    else:\n",
    "        return np.nan;\n",
    "\n",
    "def jaccard (contingency_table):\n",
    "    f11 = contingency_table[0];\n",
    "    f10 = contingency_table[1];\n",
    "    f01 = contingency_table[2];\n",
    "    f00 = contingency_table[3];\n",
    "    N = f11 + f00 + f10 + f01;\n",
    "    if (f11 + f10 + f01) == 0:\n",
    "        return np.nan;\n",
    "    else:\n",
    "        J = f11 / (f11 + f10 + f01);\n",
    "        return J;\n",
    "\n",
    "def f_measure (contingency_table):\n",
    "    f11 = contingency_table[0];\n",
    "    f10 = contingency_table[1];\n",
    "    f01 = contingency_table[2];\n",
    "    f00 = contingency_table[3];\n",
    "    N = f11 + f00 + f10 + f01;\n",
    "\n",
    "    if f11 == 0:\n",
    "        return np.nan;\n",
    "    else:\n",
    "    #     P_(a given b)\n",
    "        P_agb = f11 / (f11 + f01);\n",
    "    #     P_(b given a)\n",
    "        P_bga = f11 / (f11 + f10);\n",
    "\n",
    "        FM = (2*P_agb*P_bga) / (P_agb + P_bga);\n",
    "        return FM;\n",
    "    \n",
    "def odds_ratio(contingency_table):\n",
    "    f11 = contingency_table[0];\n",
    "    f10 = contingency_table[1];\n",
    "    f01 = contingency_table[2];\n",
    "    f00 = contingency_table[3];\n",
    "    OR = (f11 * f00)/(f01 * f10);\n",
    "    return OR;\n",
    "\n",
    "def specificity(contingency_table):\n",
    "    f11 = contingency_table[0];\n",
    "#     f10 = contingency_table[1];\n",
    "    f01 = contingency_table[2];\n",
    "    f00 = contingency_table[3];\n",
    "    den = f00 + f01;\n",
    "    if den != 0:\n",
    "        return f00/den;\n",
    "    else:\n",
    "        return np.nan;\n",
    "negative_reliability = specificity;\n",
    "\n",
    "def sebag_schoenauer(contingency_table):\n",
    "    f11 = contingency_table[0];\n",
    "    f10 = contingency_table[1];\n",
    "    if f10:\n",
    "        return f11/f10;\n",
    "    else:\n",
    "        return np.nan;\n",
    "def accuracy(contingency_table):\n",
    "    f11 = contingency_table[0];\n",
    "    f10 = contingency_table[1];\n",
    "    f01 = contingency_table[2];\n",
    "    f00 = contingency_table[3];\n",
    "    N = f11 + f00 + f10 + f01;\n",
    "    if N:\n",
    "        return (f11 + f00)/N;\n",
    "    else:\n",
    "        return np.nan;\n",
    "    \n",
    "def support(contingency_table):\n",
    "    return contingency_table[0];\n",
    "\n",
    "def confidence_causal(contingency_table):\n",
    "    f11 = contingency_table[0];\n",
    "    f10 = contingency_table[1];\n",
    "    f01 = contingency_table[2];\n",
    "    f00 = contingency_table[3];\n",
    "#     N = f11 + f00 + f10 + f01;\n",
    "    CC = (f11/(f11+f10)) + (f00/(f00+f10));\n",
    "    return CC/2;\n",
    "\n",
    "def lift(contingency_table):\n",
    "    f11 = contingency_table[0];\n",
    "    f10 = contingency_table[1];\n",
    "    f01 = contingency_table[2];\n",
    "    f00 = contingency_table[3];\n",
    "    N = f11 + f00 + f10 + f01;\n",
    "    return (f11 * N)/((f11 + f10) * (f11 + f01));\n",
    "\n",
    "def ganascia(contingency_table):\n",
    "    f11 = contingency_table[0];\n",
    "    f10 = contingency_table[1];\n",
    "#     f01 = contingency_table[2];\n",
    "#     f00 = contingency_table[3];\n",
    "#     N = f11 + f00 + f10 + f01;\n",
    "    G = (f11 - f10) / (f11 + f10);\n",
    "    return G;\n",
    "\n",
    "def kulczynsky_1 (contingency_table):\n",
    "    f11 = contingency_table[0];\n",
    "    f10 = contingency_table[1];\n",
    "    f01 = contingency_table[2];\n",
    "#     f00 = contingency_table[3];\n",
    "#     N = f11 + f00 + f10 + f01;\n",
    "    K = f11 / (f10 + f01);\n",
    "    return K;"
   ]
  },
  {
   "cell_type": "code",
   "execution_count": 12,
   "metadata": {
    "collapsed": false
   },
   "outputs": [],
   "source": [
    "scores = np.zeros(shape=(1296,16));\n",
    "\n",
    "# idxt - index of a contingency table\n",
    "for idxt,table in enumerate(tables):\n",
    "    scores[idxt,0] = recall(table);\n",
    "    scores[idxt,1] = precision(table);\n",
    "    scores[idxt,2] = confidence(table);\n",
    "    scores[idxt,3] = mutual_information(table);\n",
    "    scores[idxt,4] = jaccard(table);\n",
    "    scores[idxt,5] = f_measure(table);\n",
    "    scores[idxt,6] = odds_ratio(table);\n",
    "    scores[idxt,7] = specificity(table);\n",
    "    scores[idxt,8] = negative_reliability(table);\n",
    "    scores[idxt,9] = sebag_schoenauer(table);\n",
    "    scores[idxt,10] = accuracy(table);\n",
    "    scores[idxt,11] = support(table);\n",
    "    scores[idxt,12] = confidence_causal(table);\n",
    "    scores[idxt,13] = lift(table);\n",
    "    scores[idxt,14] = ganascia(table);\n",
    "    scores[idxt,15] = kulczynsky_1(table);"
   ]
  },
  {
   "cell_type": "code",
   "execution_count": 13,
   "metadata": {
    "collapsed": false
   },
   "outputs": [],
   "source": [
    "ranks = np.zeros(shape = scores.shape)\n",
    "for idx,score in enumerate(scores.T):\n",
    "#     print(score)\n",
    "    ranks[:,idx] = return_ranks(score);"
   ]
  },
  {
   "cell_type": "code",
   "execution_count": 16,
   "metadata": {
    "collapsed": false
   },
   "outputs": [],
   "source": [
    "dist_spearman = spearmanr(ranks);\n",
    "# dist_corr = pdist(ranks, metric='correlation');\n",
    "\n",
    "Z = hierarchy.complete(np.triu(dist_spearman.correlation));"
   ]
  },
  {
   "cell_type": "code",
   "execution_count": 17,
   "metadata": {
    "collapsed": false
   },
   "outputs": [
    {
     "name": "stdout",
     "output_type": "stream",
     "text": [
      "[[ 1.          0.49049282  0.49049282  0.54478894  0.83279493  0.83281136\n",
      "   0.69380426  0.49049282  0.49049282  0.49049282  0.6450739   0.6969241\n",
      "   0.28094988  0.57297343  0.49049282  0.83279493]\n",
      " [ 0.49049282  1.          1.          0.54478894  0.83279493  0.83281136\n",
      "   0.69380426  0.          0.          1.          0.6450739   0.6969241\n",
      "   0.85480066  0.57297343  1.          0.83279493]\n",
      " [ 0.49049282  1.          1.          0.54478894  0.83279493  0.83281136\n",
      "   0.69380426  0.          0.          1.          0.6450739   0.6969241\n",
      "   0.85480066  0.57297343  1.          0.83279493]\n",
      " [ 0.54478894  0.54478894  0.54478894  1.          0.59394482  0.5939384\n",
      "   0.84427837  0.63217652  0.63217652  0.54478894  0.73850226  0.35025861\n",
      "   0.70242148  0.84379165  0.54478894  0.59394482]\n",
      " [ 0.83279493  0.83279493  0.83279493  0.59394482  1.          0.99999821\n",
      "   0.79764894  0.28699614  0.28699614  0.83279493  0.79603694  0.76403485\n",
      "   0.63770462  0.66036835  0.83279493  1.        ]\n",
      " [ 0.83281136  0.83281136  0.83281136  0.5939384   0.99999821  1.\n",
      "   0.79763759  0.28696009  0.28696009  0.83281136  0.79598927  0.76412044\n",
      "   0.63769365  0.66037336  0.83281136  0.99999821]\n",
      " [ 0.69380426  0.69380426  0.69380426  0.84427837  0.79764894  0.79763759\n",
      "   1.          0.69380426  0.69380426  0.69380426  0.93314026  0.48785058\n",
      "   0.79128162  0.89776415  0.69380426  0.79764894]\n",
      " [ 0.49049282  0.          0.          0.63217652  0.28699614  0.28696009\n",
      "   0.69380426  1.          1.          0.          0.6450739   0.\n",
      "   0.28094988  0.66706067  0.          0.28699614]\n",
      " [ 0.49049282  0.          0.          0.63217652  0.28699614  0.28696009\n",
      "   0.69380426  1.          1.          0.          0.6450739   0.\n",
      "   0.28094988  0.66706067  0.          0.28699614]\n",
      " [ 0.49049282  1.          1.          0.54478894  0.83279493  0.83281136\n",
      "   0.69380426  0.          0.          1.          0.6450739   0.6969241\n",
      "   0.85480066  0.57297343  1.          0.83279493]\n",
      " [ 0.6450739   0.6450739   0.6450739   0.73850226  0.79603694  0.79598927\n",
      "   0.93314026  0.6450739   0.6450739   0.6450739   1.          0.44496518\n",
      "   0.72521453  0.83212816  0.6450739   0.79603694]\n",
      " [ 0.6969241   0.6969241   0.6969241   0.35025861  0.76403485  0.76412044\n",
      "   0.48785058  0.          0.          0.6969241   0.44496518  1.\n",
      "   0.40066101  0.35658966  0.6969241   0.76403485]\n",
      " [ 0.28094988  0.85480066  0.85480066  0.70242148  0.63770462  0.63769365\n",
      "   0.79128162  0.28094988  0.28094988  0.85480066  0.72521453  0.40066101\n",
      "   1.          0.71465273  0.85480066  0.63770462]\n",
      " [ 0.57297343  0.57297343  0.57297343  0.84379165  0.66036835  0.66037336\n",
      "   0.89776415  0.66706067  0.66706067  0.57297343  0.83212816  0.35658966\n",
      "   0.71465273  1.          0.57297343  0.66036835]\n",
      " [ 0.49049282  1.          1.          0.54478894  0.83279493  0.83281136\n",
      "   0.69380426  0.          0.          1.          0.6450739   0.6969241\n",
      "   0.85480066  0.57297343  1.          0.83279493]\n",
      " [ 0.83279493  0.83279493  0.83279493  0.59394482  1.          0.99999821\n",
      "   0.79764894  0.28699614  0.28699614  0.83279493  0.79603694  0.76403485\n",
      "   0.63770462  0.66036835  0.83279493  1.        ]]\n"
     ]
    }
   ],
   "source": [
    "print(dist_spearman.correlation)\n",
    "# print(Z)"
   ]
  },
  {
   "cell_type": "code",
   "execution_count": 18,
   "metadata": {
    "collapsed": false,
    "scrolled": true
   },
   "outputs": [
    {
     "data": {
      "image/png": "[encoded data removed]",
      "text/plain": [
       "<matplotlib.figure.Figure at 0x113f86358>"
      ]
     },
     "metadata": {},
     "output_type": "display_data"
    }
   ],
   "source": [
    "hierarchy.dendrogram(Z)\n",
    "plt.show()"
   ]
  },
  {
   "cell_type": "code",
   "execution_count": 19,
   "metadata": {
    "collapsed": false
   },
   "outputs": [
    {
     "data": {
      "text/plain": [
       "(1296, 16)"
      ]
     },
     "execution_count": 19,
     "metadata": {},
     "output_type": "execute_result"
    }
   ],
   "source": [
    "ranks.shape"
   ]
  },
  {
   "cell_type": "code",
   "execution_count": null,
   "metadata": {
    "collapsed": false
   },
   "outputs": [],
   "source": []
  },
  {
   "cell_type": "code",
   "execution_count": null,
   "metadata": {
    "collapsed": false
   },
   "outputs": [],
   "source": []
  },
  {
   "cell_type": "code",
   "execution_count": 127,
   "metadata": {
    "collapsed": false
   },
   "outputs": [],
   "source": []
  },
  {
   "cell_type": "code",
   "execution_count": null,
   "metadata": {
    "collapsed": true
   },
   "outputs": [],
   "source": []
  }
 ],
 "metadata": {
  "anaconda-cloud": {},
  "kernelspec": {
   "display_name": "Python 3",
   "language": "python",
   "name": "python3"
  },
  "language_info": {
   "codemirror_mode": {
    "name": "ipython",
    "version": 3
   },
   "file_extension": ".py",
   "mimetype": "text/x-python",
   "name": "python",
   "nbconvert_exporter": "python",
   "pygments_lexer": "ipython3",
   "version": "3.5.2"
  }
 },
 "nbformat": 4,
 "nbformat_minor": 1
}
