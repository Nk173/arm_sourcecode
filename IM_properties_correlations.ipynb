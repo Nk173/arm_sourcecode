{
 "cells": [
  {
   "cell_type": "code",
   "execution_count": null,
   "metadata": {
    "collapsed": true
   },
   "outputs": [],
   "source": []
  },
  {
   "cell_type": "code",
   "execution_count": 4,
   "metadata": {
    "collapsed": true
   },
   "outputs": [],
   "source": [
    "# properties_df = pd.read_csv('measures_properties.csv')\n",
    "# properties_df.head()\n",
    "# properties_df = properties_df.drop('No', axis=1);"
   ]
  },
  {
   "cell_type": "code",
   "execution_count": 5,
   "metadata": {
    "collapsed": true
   },
   "outputs": [],
   "source": [
    "# properties_df['O1'] = properties_df['O1'].map({'Y':1, 'N':0});\n",
    "\n",
    "# properties_df['O2'] = properties_df['O2'].map({'Y':1, 'N':0});\n",
    "\n",
    "# properties_df['O3'] = properties_df['O3'].map({'Y':1, 'N':0});\n",
    "# properties_df['O3\\''] = properties_df['O3\\''].map({'Y':1, 'N':0});\n",
    "# properties_df['O4'] = properties_df['O4'].map({'Y':1, 'N':0});\n",
    "\n",
    "# properties_df['P1'] = properties_df['P1'].map({'Y':1, 'N':0});\n",
    "# properties_df['P2'] = properties_df['P2'].map({'Y':1, 'N':0});\n",
    "# properties_df['P3'] = properties_df['P3'].map({'Y':1, 'N':0});\n",
    "\n",
    "# properties_df['UNAI'] = properties_df['UNAI'].map({'Y': 1, 'N': 0});\n",
    "# properties_df['UNZR'] = properties_df['UNZR'].map({'Strong': 2, 'Weak': 1, 'Nothing': 0});\n",
    "\n",
    "\n",
    "# p_df = properties_df[['UNZR','UNAI','P1', 'P2','P3','O1', 'O2', 'O3', 'O3\\'', 'O4']];\n",
    "\n",
    "# show_rank_correlation_matrix(p_df)\n",
    "# show_ranks_dendrogram(p_df)"
   ]
  },
  {
   "cell_type": "code",
   "execution_count": 6,
   "metadata": {
    "collapsed": true
   },
   "outputs": [],
   "source": [
    "# properties_contingency_table = pd.crosstab([properties_df.P1, properties_df.P2, properties_df.P3,\n",
    "#              properties_df.O1,properties_df.O2,properties_df.O3,\n",
    "#             properties_df['O3\\''],properties_df.O4],\n",
    "#             [properties_df.UNAI],\n",
    "#             rownames=['P1', 'P2', 'P3','O1', 'O2', 'O3', 'O3\\'', 'O4'],\n",
    "#             colnames=['UNAI'], margins=True);"
   ]
  },
  {
   "cell_type": "code",
   "execution_count": 3,
   "metadata": {
    "collapsed": true
   },
   "outputs": [],
   "source": [
    "# properties_contingency_table"
   ]
  },
  {
   "cell_type": "code",
   "execution_count": null,
   "metadata": {
    "collapsed": true
   },
   "outputs": [],
   "source": []
  }
 ],
 "metadata": {
  "anaconda-cloud": {},
  "kernelspec": {
   "display_name": "Python 3",
   "language": "python",
   "name": "python3"
  },
  "language_info": {
   "codemirror_mode": {
    "name": "ipython",
    "version": 3
   },
   "file_extension": ".py",
   "mimetype": "text/x-python",
   "name": "python",
   "nbconvert_exporter": "python",
   "pygments_lexer": "ipython3",
   "version": "3.5.2"
  }
 },
 "nbformat": 4,
 "nbformat_minor": 1
}
