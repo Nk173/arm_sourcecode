{
 "cells": [
  {
   "cell_type": "code",
   "execution_count": 1,
   "metadata": {
    "collapsed": true
   },
   "outputs": [],
   "source": [
    "import numpy as np"
   ]
  },
  {
   "cell_type": "code",
   "execution_count": 2,
   "metadata": {
    "collapsed": true
   },
   "outputs": [],
   "source": [
    "from Measures import map_measures_to_indices;"
   ]
  },
  {
   "cell_type": "code",
   "execution_count": 3,
   "metadata": {
    "collapsed": true
   },
   "outputs": [],
   "source": [
    "(measures_dict, measures_arr) = map_measures_to_indices();"
   ]
  },
  {
   "cell_type": "code",
   "execution_count": 4,
   "metadata": {
    "collapsed": true
   },
   "outputs": [],
   "source": [
    "from Contingency_Table import contingency_table, generate_contingency_tables;"
   ]
  },
  {
   "cell_type": "code",
   "execution_count": 5,
   "metadata": {
    "collapsed": true
   },
   "outputs": [],
   "source": [
    "vals = np.array([1,100,14,27]);"
   ]
  },
  {
   "cell_type": "code",
   "execution_count": 6,
   "metadata": {
    "collapsed": true
   },
   "outputs": [],
   "source": [
    "tables = generate_contingency_tables(vals);"
   ]
  },
  {
   "cell_type": "code",
   "execution_count": 7,
   "metadata": {
    "collapsed": false
   },
   "outputs": [],
   "source": [
    "n_measures = len(measures_dict);\n",
    "n_scores = len(vals)**4;\n",
    "scores_matrix = np.zeros(shape=(n_scores,n_measures));"
   ]
  },
  {
   "cell_type": "code",
   "execution_count": 8,
   "metadata": {
    "collapsed": true
   },
   "outputs": [],
   "source": [
    "# computes scores for each table and updates the scores matrix\n",
    "for idx,table in enumerate(tables):\n",
    "    t = contingency_table(table);\n",
    "    t.compute_scores();\n",
    "    scores_matrix[idx] = t.scores;"
   ]
  },
  {
   "cell_type": "code",
   "execution_count": 9,
   "metadata": {
    "collapsed": false
   },
   "outputs": [
    {
     "ename": "IndexError",
     "evalue": "index 255 is out of bounds for axis 1 with size 50",
     "output_type": "error",
     "traceback": [
      "\u001b[0;31m---------------------------------------------------------------------------\u001b[0m",
      "\u001b[0;31mIndexError\u001b[0m                                Traceback (most recent call last)",
      "\u001b[0;32m<ipython-input-9-ed133460ed21>\u001b[0m in \u001b[0;36m<module>\u001b[0;34m()\u001b[0m\n\u001b[0;32m----> 1\u001b[0;31m \u001b[0mu\u001b[0m\u001b[0;34m,\u001b[0m \u001b[0mi\u001b[0m\u001b[0;34m,\u001b[0m \u001b[0mc\u001b[0m \u001b[0;34m=\u001b[0m \u001b[0mnp\u001b[0m\u001b[0;34m.\u001b[0m\u001b[0munique\u001b[0m\u001b[0;34m(\u001b[0m\u001b[0mscores_matrix\u001b[0m\u001b[0;34m[\u001b[0m\u001b[0;34m:\u001b[0m\u001b[0;34m,\u001b[0m\u001b[0midx\u001b[0m\u001b[0;34m]\u001b[0m\u001b[0;34m,\u001b[0m \u001b[0mreturn_counts\u001b[0m\u001b[0;34m=\u001b[0m\u001b[0;32mTrue\u001b[0m\u001b[0;34m,\u001b[0m \u001b[0mreturn_index\u001b[0m\u001b[0;34m=\u001b[0m\u001b[0;32mTrue\u001b[0m\u001b[0;34m)\u001b[0m\u001b[0;34m;\u001b[0m\u001b[0;34m\u001b[0m\u001b[0m\n\u001b[0m\u001b[1;32m      2\u001b[0m \u001b[0;31m# print(u, i, c, i.shape)\u001b[0m\u001b[0;34m\u001b[0m\u001b[0;34m\u001b[0m\u001b[0m\n",
      "\u001b[0;31mIndexError\u001b[0m: index 255 is out of bounds for axis 1 with size 50"
     ]
    }
   ],
   "source": [
    "u, i, c = np.unique(scores_matrix[:,idx], return_counts=True, return_index=True);\n",
    "# print(u, i, c, i.shape)"
   ]
  },
  {
   "cell_type": "code",
   "execution_count": 56,
   "metadata": {
    "collapsed": false,
    "scrolled": false
   },
   "outputs": [
    {
     "name": "stdout",
     "output_type": "stream",
     "text": [
      "confirm_descriptive\n",
      "[  1.  14.  14.  27.] [ 14.  27.  14.   1.] -0.232142857143\n",
      "[  1.  14.  27.  14.] [ 14.  27.   1.  14.] -0.232142857143\n",
      "[  1.  14.  27.  27.] [ 14.  27.   1.  27.] -0.188405797101\n",
      "[  1.  14.  27.  27.] [ 14.  27.  14.  14.] -0.188405797101\n",
      "[  1.  14.  27.  27.] [ 14.  27.  27.   1.] -0.188405797101\n",
      "[ 14.   1.  27.  27.] [ 27.  14.   1.  27.] 0.188405797101\n",
      "[ 14.   1.  27.  27.] [ 27.  14.  14.  14.] 0.188405797101\n",
      "[ 14.   1.  27.  27.] [ 27.  14.  27.   1.] 0.188405797101\n",
      "[ 14.   1.  14.  27.] [ 27.  14.  14.   1.] 0.232142857143\n",
      "[ 14.   1.  27.  14.] [ 27.  14.   1.  14.] 0.232142857143\n",
      "['f11_f10_invariance', 'row_permutation', 'inversion', 'null', 'null_AND_variable_permutation', 'f01', 'row_scaling', 'column_scaling', 'column_permutation']\n"
     ]
    }
   ],
   "source": [
    "import itertools;\n",
    "idx = measures_dict['confirm_descriptive'];\n",
    "print(measures_arr[idx]);\n",
    "invariances = [];\n",
    "#unique vals, indices, counts\n",
    "u, i, c = np.unique(scores_matrix[:,idx], return_counts=True, return_index=True)\n",
    "\n",
    "for pos, index in enumerate(i):\n",
    "    if (c[pos] >= 2):\n",
    "#         print(index)\n",
    "        t = tables[scores_matrix[:,idx] == scores_matrix[index,idx]];\n",
    "        for i,j in itertools.combinations(range(len(t)),2):\n",
    "            flag = 0;\n",
    "            if check_null_invariance(t[i], t[j]):\n",
    "                flag = 1;\n",
    "                if not 'null' in invariances:\n",
    "                    invariances.append('null');\n",
    "#                 continue; #remove combinations with null invariance\n",
    "#                 print(t[i], t[j]);\n",
    "\n",
    "            if check_inversion_invariance(t[i], t[j]):\n",
    "                flag = 1;\n",
    "                if not 'inversion' in invariances:\n",
    "                    invariances.append('inversion');\n",
    "#                 continue; #remove combinations with inversion invariance\n",
    "#                 print(t[i], t[j]);\n",
    "\n",
    "            if check_ab_tweaking_invariance(t[i], t[j]):\n",
    "                flag = 1;\n",
    "                if not 'f11' in invariances:\n",
    "                    invariances.append('f11');\n",
    "#                 continue; #remove combinations with f11 tweaking invariance\n",
    "#                 print(t[i], t[j]);\n",
    "\n",
    "            if check_abprime_tweaking_invariance(t[i], t[j]):\n",
    "                flag = 1;\n",
    "                if not 'f10' in invariances:\n",
    "                    invariances.append('f10');\n",
    "#                 continue; #remove combinations with f10 tweaking invariance\n",
    "#                 print(t[i], t[j]);\n",
    "\n",
    "            if check_aprimeb_tweaking_invariance(t[i], t[j]):\n",
    "                flag = 1;\n",
    "                if not 'f01' in invariances:\n",
    "                    invariances.append('f01');\n",
    "#                 continue; #remove combinations with f10 tweaking invariance\n",
    "#                 print(t[i], t[j]);\n",
    "\n",
    "#             if check_P_bgivena_invariance(t[i], t[j]):\n",
    "#                 flag = 1;\n",
    "#                 if not 'p_b_given_a' in invariances:\n",
    "#                     invariances.append('p_b_given_a');\n",
    "# #                 continue; #remove combinations with P_given_a invariance\n",
    "# #                 print(t[i], t[j]);\n",
    "\n",
    "#             if check_P_agivenb_invariance(t[i], t[j]):\n",
    "#                 flag = 1;\n",
    "#                 if not 'p_a_given_b' in invariances:\n",
    "#                     invariances.append('p_a_given_b');\n",
    "# #                 continue; #remove combinations with P_given_a invariance\n",
    "# #                 print(t[i], t[j]);\n",
    "\n",
    "            if check_variable_permutation_invariance(t[i], t[j]):\n",
    "                flag = 1;\n",
    "                if not 'variable_permutation' in invariances:\n",
    "                    invariances.append('variable_permutation');\n",
    "#                 continue; #remove combinations with variable permutation\n",
    "#                 print(t[i], t[j]);\n",
    "\n",
    "            if check_off_diagonal_permutation_invariance(t[i], t[j]):\n",
    "                flag = 1;\n",
    "                if not 'off_diagonal_permutation' in invariances:\n",
    "                    invariances.append('off_diagonal_permutation');\n",
    "#                 print(t[i], t[j]);\n",
    "\n",
    "#             # check null AND variable_permutation\n",
    "            if check_null_AND_variable_permutation_invariance(t[i],t[j]):\n",
    "                flag = 1;\n",
    "                if not 'null_AND_variable_permutation' in invariances:\n",
    "                    invariances.append('null_AND_variable_permutation');\n",
    "#                 continue;\n",
    "#                 print(t[i], t[j]);\n",
    "\n",
    "            if check_column_permutation_invariance(t[i],t[j]):\n",
    "                flag = 1;\n",
    "                if not 'column_permutation' in invariances:\n",
    "                    invariances.append('column_permutation');\n",
    "\n",
    "            if check_row_permutation_invariance(t[i],t[j]):\n",
    "                flag = 1;\n",
    "                if not 'row_permutation' in invariances:\n",
    "                    invariances.append('row_permutation');                    \n",
    "                    \n",
    "                    \n",
    "            if check_row_scaling_invariance(t[i],t[j]):\n",
    "                flag = 1;\n",
    "                if not 'row_scaling' in invariances:\n",
    "                    invariances.append('row_scaling');\n",
    "                    \n",
    "            if check_column_scaling_invariance(t[i],t[j]):\n",
    "                flag = 1;\n",
    "                if not 'column_scaling' in invariances:\n",
    "                    invariances.append('column_scaling'); \n",
    "            \n",
    "            if check_f11_f10_invariance(t[i],t[j]):\n",
    "                flag = 1;\n",
    "                if not 'f11_f10_invariance' in invariances:\n",
    "                    invariances.append('f11_f10_invariance'); \n",
    "                    \n",
    "            if not np.around(scores_matrix[index,idx],4):\n",
    "                flag = 1;\n",
    "            \n",
    "            if not flag:\n",
    "                pass;\n",
    "                print(t[i], t[j], scores_matrix[index,idx]);\n",
    "\n",
    "print(invariances)"
   ]
  },
  {
   "cell_type": "code",
   "execution_count": null,
   "metadata": {
    "collapsed": false,
    "scrolled": false
   },
   "outputs": [],
   "source": []
  },
  {
   "cell_type": "code",
   "execution_count": 11,
   "metadata": {
    "collapsed": false
   },
   "outputs": [
    {
     "data": {
      "text/plain": [
       "0.3170731707317073"
      ]
     },
     "execution_count": 11,
     "metadata": {},
     "output_type": "execute_result"
    }
   ],
   "source": [
    "# measures_dict['mutual_information']\n",
    "contingency_table([14,1,27,14]).least_contradiction()\n",
    "contingency_table([27,14,14,100]).least_contradiction()"
   ]
  },
  {
   "cell_type": "code",
   "execution_count": 12,
   "metadata": {
    "collapsed": true
   },
   "outputs": [],
   "source": [
    "def check_null_invariance(t1, t2):\n",
    "    if (t1[0] == t2[0]) and (t1[1] == t2[1]) and (t1[2] == t2[2]):\n",
    "        if not (t1[3] == t2[3]):\n",
    "            return True;\n",
    "    return False;"
   ]
  },
  {
   "cell_type": "code",
   "execution_count": 13,
   "metadata": {
    "collapsed": false
   },
   "outputs": [],
   "source": [
    "def check_inversion_invariance(t1, t2):\n",
    "    if (t1[0] == t2[3]) and (t1[3] == t2[0]):\n",
    "        if (t1[1] == t2[2]) and (t1[2] == t2[1]):\n",
    "            return True;\n",
    "    return False;"
   ]
  },
  {
   "cell_type": "code",
   "execution_count": 14,
   "metadata": {
    "collapsed": true
   },
   "outputs": [],
   "source": [
    "def check_off_diagonal_permutation_invariance(t1, t2):\n",
    "    if (t1[0] == t2[3]) and (t1[3] == t2[0]):\n",
    "        if (t1[1] == t2[1]) and (t1[2] == t2[2]):\n",
    "            return True;\n",
    "    return False;"
   ]
  },
  {
   "cell_type": "code",
   "execution_count": 15,
   "metadata": {
    "collapsed": true
   },
   "outputs": [],
   "source": [
    "def check_ab_tweaking_invariance(t1, t2):\n",
    "    if (t1[1] == t2[1]) and (t1[2] == t2[2]) and (t1[3] == t2[3]):\n",
    "        if not (t1[0] == t2[0]):\n",
    "            return True;\n",
    "    return False;"
   ]
  },
  {
   "cell_type": "code",
   "execution_count": 16,
   "metadata": {
    "collapsed": true
   },
   "outputs": [],
   "source": [
    "def check_abprime_tweaking_invariance(t1, t2):\n",
    "    if (t1[0] == t2[0]) and (t1[2] == t2[2]) and (t1[3] == t2[3]):\n",
    "        if not (t1[1] == t2[1]):\n",
    "            return True;\n",
    "    return False;"
   ]
  },
  {
   "cell_type": "code",
   "execution_count": 17,
   "metadata": {
    "collapsed": true
   },
   "outputs": [],
   "source": [
    "def check_aprimeb_tweaking_invariance(t1, t2):\n",
    "    if (t1[0] == t2[0]) and (t1[1] == t2[1]) and (t1[3] == t2[3]):\n",
    "        if not (t1[2] == t2[2]):\n",
    "            return True;\n",
    "    return False;"
   ]
  },
  {
   "cell_type": "code",
   "execution_count": 18,
   "metadata": {
    "collapsed": false
   },
   "outputs": [],
   "source": [
    "def check_variable_permutation_invariance(t1, t2):\n",
    "    if (t1[0] == t2[0]) and (t1[3] == t2[3]):\n",
    "        if (t1[1] == t2[2]) and (t1[2] == t2[1]):\n",
    "            return True;\n",
    "    return False;"
   ]
  },
  {
   "cell_type": "code",
   "execution_count": 19,
   "metadata": {
    "collapsed": true
   },
   "outputs": [],
   "source": [
    "def check_null_AND_variable_permutation_invariance(t1, t2):\n",
    "    if (t1[0] == t2[0]):\n",
    "        if (t1[1] == t2[2]) and (t1[2] == t2[1]):\n",
    "            if not (t1[3] == t2[3]):\n",
    "                return True;\n",
    "    return False;"
   ]
  },
  {
   "cell_type": "code",
   "execution_count": 20,
   "metadata": {
    "collapsed": true
   },
   "outputs": [],
   "source": [
    "def check_P_bgivena_invariance(t1,t2):\n",
    "    p1 = t1[0] / (t1[0] + t1[1]);\n",
    "    p2 = t2[0] / (t2[0] + t2[1]);\n",
    "    if (p1 == p2):\n",
    "        return True;\n",
    "    return False;"
   ]
  },
  {
   "cell_type": "code",
   "execution_count": 21,
   "metadata": {
    "collapsed": true
   },
   "outputs": [],
   "source": [
    "def check_P_agivenb_invariance(t1,t2):\n",
    "    p1 = t1[0] / (t1[0] + t1[2]);\n",
    "    p2 = t2[0] / (t2[0] + t2[2]);\n",
    "    if (p1 == p2):\n",
    "        return True;\n",
    "    return False;    "
   ]
  },
  {
   "cell_type": "code",
   "execution_count": 22,
   "metadata": {
    "collapsed": true
   },
   "outputs": [],
   "source": [
    "def check_column_permutation_invariance(t1, t2):\n",
    "    if (t1[0] == t2[1]) and (t1[1] == t2[0]) and (t1[2] == t2[3]) and (t1[3] == t2[2]):\n",
    "            return True;\n",
    "    return False;"
   ]
  },
  {
   "cell_type": "code",
   "execution_count": 23,
   "metadata": {
    "collapsed": true
   },
   "outputs": [],
   "source": [
    "def check_row_permutation_invariance(t1, t2):\n",
    "    if (t1[0] == t2[2]) and (t1[1] == t2[3]) and (t1[2] == t2[0]) and (t1[3] == t2[1]):\n",
    "            return True;\n",
    "    return False;"
   ]
  },
  {
   "cell_type": "code",
   "execution_count": 24,
   "metadata": {
    "collapsed": true
   },
   "outputs": [],
   "source": [
    "def check_row_scaling_invariance(t1, t2):\n",
    "    if ((t1[0]/t2[0]) == (t1[1]/t2[1])) and (t1[2]/t2[2]) == (t1[3]/t2[3]):\n",
    "        return True;\n",
    "    return False;"
   ]
  },
  {
   "cell_type": "code",
   "execution_count": 25,
   "metadata": {
    "collapsed": true
   },
   "outputs": [],
   "source": [
    "def check_column_scaling_invariance(t1, t2):\n",
    "    if ((t1[0]/t2[0]) == (t1[2]/t2[2])) and (t1[1]/t2[1]) == (t1[3]/t2[3]):\n",
    "        return True;\n",
    "    return False;"
   ]
  },
  {
   "cell_type": "code",
   "execution_count": 55,
   "metadata": {
    "collapsed": true
   },
   "outputs": [],
   "source": [
    "def check_f11_f10_invariance(t1,t2):\n",
    "    if (t1[0] == t2[0]) and (t1[1] == t2[1]):\n",
    "        if not ((t1[2] == t2[2]) and (t1[3] == t2[3])):\n",
    "            return True;\n",
    "    return False"
   ]
  },
  {
   "cell_type": "code",
   "execution_count": 27,
   "metadata": {
    "collapsed": false
   },
   "outputs": [
    {
     "data": {
      "text/plain": [
       "True"
      ]
     },
     "execution_count": 27,
     "metadata": {},
     "output_type": "execute_result"
    }
   ],
   "source": [
    "check_inversion_invariance([100,27,100,14], [14,100,27,100])"
   ]
  },
  {
   "cell_type": "code",
   "execution_count": 28,
   "metadata": {
    "collapsed": true
   },
   "outputs": [],
   "source": [
    "t1, t2 = tables[2], tables[3]"
   ]
  },
  {
   "cell_type": "code",
   "execution_count": 29,
   "metadata": {
    "collapsed": false
   },
   "outputs": [
    {
     "data": {
      "text/plain": [
       "array([  1.,   1.,   1.,  27.])"
      ]
     },
     "execution_count": 29,
     "metadata": {},
     "output_type": "execute_result"
    }
   ],
   "source": [
    "t2"
   ]
  },
  {
   "cell_type": "code",
   "execution_count": 57,
   "metadata": {
    "collapsed": false,
    "scrolled": false
   },
   "outputs": [
    {
     "name": "stderr",
     "output_type": "stream",
     "text": [
      "/Users/abhisheksharma/anaconda3/lib/python3.5/site-packages/ipykernel/__main__.py:2: VisibleDeprecationWarning: using a non-integer number instead of an integer will result in an error in the future\n",
      "  from ipykernel import kernelapp as app\n",
      "/Users/abhisheksharma/anaconda3/lib/python3.5/site-packages/ipykernel/__main__.py:9: VisibleDeprecationWarning: using a non-integer number instead of an integer will result in an error in the future\n"
     ]
    }
   ],
   "source": [
    "import scipy.misc as sm;\n",
    "X = np.zeros(shape=(sm.comb(len(tables), 2),len(measures_arr)), dtype=int);\n",
    "k = 0;\n",
    "\n",
    "invariances = [];\n",
    "for i in range(len(measures_arr)):\n",
    "    invariances.append([]);\n",
    "    \n",
    "T_indices = np.zeros(sm.comb(len(tables),2), tuple)\n",
    "for i,j in itertools.combinations(range(len(tables)),2):\n",
    "# for i,j in itertools.combinations(range(30),2):\n",
    "    T_indices[k] = (i,j);\n",
    "    if not (i == j):\n",
    "        for key,value in measures_dict.items():\n",
    "            flag = 0;\n",
    "            match = eval('contingency_table(tables[i]).'+ key +'() == contingency_table(tables[j]).' + key + '()');\n",
    "            score = eval('contingency_table(tables[i]).'+ key +'()');\n",
    "        \n",
    "            # check if the scores are same\n",
    "            if match:\n",
    "                #check if null invariance was the reason:\n",
    "                if check_null_invariance(tables[i], tables[j]):\n",
    "                    flag = 1;\n",
    "                    if not 'null' in invariances[value]:\n",
    "                        invariances[value].append('null')\n",
    "\n",
    "                #check if inversion invariance was the reason:\n",
    "                if check_inversion_invariance(tables[i], tables[j]):\n",
    "                    flag = 1;\n",
    "                    if not 'inversion' in invariances[value]:\n",
    "                        invariances[value].append('inversion');\n",
    "\n",
    "                if check_variable_permutation_invariance(tables[i], tables[j]):\n",
    "                    flag = 1;\n",
    "                    if not 'variable_permutation' in invariances[value]:\n",
    "                        invariances[value].append('variable_permutation');\n",
    "                        \n",
    "                if check_off_diagonal_permutation_invariance(tables[i], tables[j]):\n",
    "                    flag = 1;\n",
    "                    if not 'off_diagonal_permutation' in invariances[value]:\n",
    "                        invariances[value].append('off_diagonal_permutation');\n",
    "\n",
    "#                 if check_P_bgivena_invariance(tables[i], tables[j]):\n",
    "#                     flag = 1;\n",
    "#                     if not 'p_b_given_a' in invariances[value]:\n",
    "#                         invariances[value].append('p_b_given_a');\n",
    "\n",
    "#                 if check_P_agivenb_invariance(tables[i], tables[j]):\n",
    "#                     flag = 1;\n",
    "#                     if not 'p_a_given_b' in invariances[value]:\n",
    "#                         invariances[value].append('p_a_given_b');\n",
    "                        \n",
    "                if check_null_AND_variable_permutation_invariance(tables[i], tables[j]):\n",
    "                    flag = 1;\n",
    "                    if not 'null_variable_permutation' in invariances[value]:\n",
    "                        invariances[value].append('null_variable_permutation');\n",
    "                        \n",
    "                if check_column_permutation_invariance(tables[i], tables[j]):\n",
    "                    flag = 1;\n",
    "                    if not 'column_permutation' in invariances[value]:\n",
    "                        invariances[value].append('column_permutation');\n",
    "                        \n",
    "                if check_row_permutation_invariance(tables[i], tables[j]):\n",
    "                    flag = 1;\n",
    "                    if not 'row_permutation' in invariances[value]:\n",
    "                        invariances[value].append('row_permutation');\n",
    "                        \n",
    "                if check_row_scaling_invariance(tables[i], tables[j]):\n",
    "                    flag = 1;\n",
    "                    if not 'row_scaling' in invariances[value]:\n",
    "                        invariances[value].append('row_scaling');\n",
    "                        \n",
    "                if check_column_scaling_invariance(tables[i], tables[j]):\n",
    "                    flag = 1;\n",
    "                    if not 'column_scaling' in invariances[value]:\n",
    "                        invariances[value].append('column_scaling');\n",
    "\n",
    "                if check_f11_f10_invariance(tables[i], tables[j]):\n",
    "                    flag = 1;\n",
    "                    if not 'f11_f10_invariance' in invariances[value]:\n",
    "                        invariances[value].append('f11_f10_invariance');\n",
    "\n",
    "                #disregarding match when scores are zero\n",
    "                if not np.around(score, 4):\n",
    "                    flag = 1;\n",
    "                        \n",
    "                if not flag:\n",
    "                    X[k,value] = eval('contingency_table(tables[i]).'+ key +'() == contingency_table(tables[j]).' + key + '()');\n",
    "#                     print(measures_arr[value],score, i,j)\n",
    "        k += 1;"
   ]
  },
  {
   "cell_type": "code",
   "execution_count": 61,
   "metadata": {
    "collapsed": false
   },
   "outputs": [
    {
     "name": "stdout",
     "output_type": "stream",
     "text": [
      "(174, 248)\n",
      "(171, 242)\n",
      "(14, 168)\n",
      "(11, 162)\n",
      "(1, 85)\n",
      "(168, 254)\n",
      "(1, 86)\n",
      "(3, 254)\n",
      "(87, 254)\n",
      "(87, 253)\n"
     ]
    }
   ],
   "source": [
    "for i in range(10):\n",
    "    print(T_indices[XRS_indices[i]])\n",
    "# measures_arr[X[9,:]==1]"
   ]
  },
  {
   "cell_type": "code",
   "execution_count": 58,
   "metadata": {
    "collapsed": false
   },
   "outputs": [],
   "source": [
    "rows, columns = X.shape;\n",
    "X_row_sum = np.zeros(rows, int);\n",
    "for i in range(rows):\n",
    "    X_row_sum[i] = np.sum(X[i,:]);"
   ]
  },
  {
   "cell_type": "code",
   "execution_count": 59,
   "metadata": {
    "collapsed": false,
    "scrolled": false
   },
   "outputs": [],
   "source": [
    "# [(measures_arr[i],np.sum(X[:,i])) for i in range(len(measures_arr))]"
   ]
  },
  {
   "cell_type": "code",
   "execution_count": 60,
   "metadata": {
    "collapsed": false
   },
   "outputs": [
    {
     "data": {
      "text/plain": [
       "array([15, 15, 14, ...,  0,  0,  0])"
      ]
     },
     "execution_count": 60,
     "metadata": {},
     "output_type": "execute_result"
    }
   ],
   "source": [
    "XRS_indices = (np.argsort(X_row_sum))[::-1];\n",
    "(np.sort(X_row_sum))[::-1]"
   ]
  },
  {
   "cell_type": "code",
   "execution_count": 63,
   "metadata": {
    "collapsed": false
   },
   "outputs": [
    {
     "data": {
      "text/plain": [
       "(array([ 14.,  14.,  14.,  27.]), array([ 27.,  27.,   1.,  14.]))"
      ]
     },
     "execution_count": 63,
     "metadata": {},
     "output_type": "execute_result"
    }
   ],
   "source": [
    "tables[171], tables[242]"
   ]
  },
  {
   "cell_type": "code",
   "execution_count": 69,
   "metadata": {
    "collapsed": false
   },
   "outputs": [
    {
     "name": "stdout",
     "output_type": "stream",
     "text": [
      "leverage\n"
     ]
    }
   ],
   "source": [
    "for i in range(len(measures_arr)):\n",
    "    if not 'f11_f10_invariance' in invariances[i]:\n",
    "        print(measures_arr[i])"
   ]
  },
  {
   "cell_type": "code",
   "execution_count": null,
   "metadata": {
    "collapsed": false
   },
   "outputs": [],
   "source": [
    "print(tables[15], tables[17])"
   ]
  },
  {
   "cell_type": "code",
   "execution_count": 65,
   "metadata": {
    "collapsed": false,
    "scrolled": false
   },
   "outputs": [
    {
     "data": {
      "text/plain": [
       "[['null',\n",
       "  'null_variable_permutation',\n",
       "  'f11_f10_invariance',\n",
       "  'column_scaling',\n",
       "  'row_scaling',\n",
       "  'row_permutation',\n",
       "  'inversion',\n",
       "  'column_permutation'],\n",
       " ['null',\n",
       "  'null_variable_permutation',\n",
       "  'f11_f10_invariance',\n",
       "  'row_scaling',\n",
       "  'column_scaling',\n",
       "  'column_permutation',\n",
       "  'inversion',\n",
       "  'row_permutation'],\n",
       " ['null',\n",
       "  'null_variable_permutation',\n",
       "  'f11_f10_invariance',\n",
       "  'row_scaling',\n",
       "  'column_scaling',\n",
       "  'column_permutation',\n",
       "  'inversion',\n",
       "  'row_permutation'],\n",
       " ['row_scaling',\n",
       "  'f11_f10_invariance',\n",
       "  'column_scaling',\n",
       "  'inversion',\n",
       "  'variable_permutation',\n",
       "  'off_diagonal_permutation',\n",
       "  'row_permutation',\n",
       "  'column_permutation'],\n",
       " ['null',\n",
       "  'null_variable_permutation',\n",
       "  'f11_f10_invariance',\n",
       "  'row_scaling',\n",
       "  'column_scaling',\n",
       "  'inversion',\n",
       "  'variable_permutation'],\n",
       " ['null',\n",
       "  'null_variable_permutation',\n",
       "  'f11_f10_invariance',\n",
       "  'row_scaling',\n",
       "  'column_scaling',\n",
       "  'inversion',\n",
       "  'variable_permutation'],\n",
       " ['row_scaling',\n",
       "  'f11_f10_invariance',\n",
       "  'column_scaling',\n",
       "  'inversion',\n",
       "  'off_diagonal_permutation',\n",
       "  'variable_permutation',\n",
       "  'row_permutation',\n",
       "  'column_permutation'],\n",
       " ['row_scaling',\n",
       "  'f11_f10_invariance',\n",
       "  'column_scaling',\n",
       "  'null_variable_permutation',\n",
       "  'inversion',\n",
       "  'row_permutation',\n",
       "  'column_permutation'],\n",
       " ['row_scaling',\n",
       "  'f11_f10_invariance',\n",
       "  'column_scaling',\n",
       "  'null_variable_permutation',\n",
       "  'inversion',\n",
       "  'row_permutation',\n",
       "  'column_permutation'],\n",
       " ['null',\n",
       "  'null_variable_permutation',\n",
       "  'f11_f10_invariance',\n",
       "  'row_scaling',\n",
       "  'column_scaling',\n",
       "  'column_permutation',\n",
       "  'inversion',\n",
       "  'row_permutation'],\n",
       " ['row_scaling',\n",
       "  'f11_f10_invariance',\n",
       "  'column_scaling',\n",
       "  'inversion',\n",
       "  'off_diagonal_permutation',\n",
       "  'variable_permutation',\n",
       "  'row_permutation',\n",
       "  'column_permutation'],\n",
       " ['row_scaling',\n",
       "  'column_scaling',\n",
       "  'column_permutation',\n",
       "  'f11_f10_invariance',\n",
       "  'row_permutation',\n",
       "  'inversion',\n",
       "  'variable_permutation'],\n",
       " ['f11_f10_invariance',\n",
       "  'row_scaling',\n",
       "  'column_scaling',\n",
       "  'inversion',\n",
       "  'off_diagonal_permutation'],\n",
       " ['row_scaling',\n",
       "  'f11_f10_invariance',\n",
       "  'column_scaling',\n",
       "  'inversion',\n",
       "  'variable_permutation',\n",
       "  'off_diagonal_permutation',\n",
       "  'row_permutation',\n",
       "  'column_permutation'],\n",
       " ['null',\n",
       "  'null_variable_permutation',\n",
       "  'f11_f10_invariance',\n",
       "  'row_scaling',\n",
       "  'column_scaling',\n",
       "  'column_permutation',\n",
       "  'inversion',\n",
       "  'row_permutation'],\n",
       " ['null',\n",
       "  'null_variable_permutation',\n",
       "  'f11_f10_invariance',\n",
       "  'row_scaling',\n",
       "  'column_scaling',\n",
       "  'inversion',\n",
       "  'variable_permutation'],\n",
       " ['column_scaling',\n",
       "  'row_scaling',\n",
       "  'column_permutation',\n",
       "  'f11_f10_invariance',\n",
       "  'inversion',\n",
       "  'row_permutation',\n",
       "  'null_variable_permutation'],\n",
       " ['row_scaling',\n",
       "  'f11_f10_invariance',\n",
       "  'column_scaling',\n",
       "  'row_permutation',\n",
       "  'inversion',\n",
       "  'column_permutation',\n",
       "  'null_variable_permutation'],\n",
       " ['row_scaling',\n",
       "  'f11_f10_invariance',\n",
       "  'column_scaling',\n",
       "  'variable_permutation',\n",
       "  'off_diagonal_permutation',\n",
       "  'inversion',\n",
       "  'column_permutation',\n",
       "  'row_permutation'],\n",
       " ['row_scaling',\n",
       "  'f11_f10_invariance',\n",
       "  'column_scaling',\n",
       "  'inversion',\n",
       "  'variable_permutation',\n",
       "  'off_diagonal_permutation',\n",
       "  'row_permutation',\n",
       "  'column_permutation'],\n",
       " ['row_scaling',\n",
       "  'f11_f10_invariance',\n",
       "  'column_scaling',\n",
       "  'inversion',\n",
       "  'variable_permutation',\n",
       "  'off_diagonal_permutation',\n",
       "  'row_permutation',\n",
       "  'column_permutation'],\n",
       " ['row_scaling',\n",
       "  'f11_f10_invariance',\n",
       "  'column_scaling',\n",
       "  'inversion',\n",
       "  'off_diagonal_permutation',\n",
       "  'variable_permutation',\n",
       "  'row_permutation',\n",
       "  'column_permutation'],\n",
       " ['row_scaling',\n",
       "  'f11_f10_invariance',\n",
       "  'column_scaling',\n",
       "  'inversion',\n",
       "  'off_diagonal_permutation',\n",
       "  'variable_permutation',\n",
       "  'row_permutation',\n",
       "  'column_permutation'],\n",
       " ['null',\n",
       "  'null_variable_permutation',\n",
       "  'f11_f10_invariance',\n",
       "  'row_scaling',\n",
       "  'column_scaling',\n",
       "  'inversion',\n",
       "  'variable_permutation'],\n",
       " ['null',\n",
       "  'null_variable_permutation',\n",
       "  'f11_f10_invariance',\n",
       "  'row_scaling',\n",
       "  'column_scaling',\n",
       "  'column_permutation',\n",
       "  'inversion',\n",
       "  'row_permutation'],\n",
       " ['row_scaling',\n",
       "  'f11_f10_invariance',\n",
       "  'column_scaling',\n",
       "  'variable_permutation',\n",
       "  'inversion',\n",
       "  'row_permutation',\n",
       "  'off_diagonal_permutation'],\n",
       " ['null',\n",
       "  'null_variable_permutation',\n",
       "  'f11_f10_invariance',\n",
       "  'row_scaling',\n",
       "  'column_scaling',\n",
       "  'column_permutation',\n",
       "  'inversion',\n",
       "  'row_permutation'],\n",
       " ['f11_f10_invariance',\n",
       "  'row_scaling',\n",
       "  'column_scaling',\n",
       "  'inversion',\n",
       "  'off_diagonal_permutation',\n",
       "  'null_variable_permutation'],\n",
       " ['row_scaling',\n",
       "  'f11_f10_invariance',\n",
       "  'column_scaling',\n",
       "  'variable_permutation',\n",
       "  'inversion',\n",
       "  'row_permutation',\n",
       "  'off_diagonal_permutation',\n",
       "  'column_permutation'],\n",
       " ['row_scaling',\n",
       "  'f11_f10_invariance',\n",
       "  'column_scaling',\n",
       "  'variable_permutation',\n",
       "  'inversion',\n",
       "  'row_permutation',\n",
       "  'off_diagonal_permutation',\n",
       "  'column_permutation'],\n",
       " ['row_scaling',\n",
       "  'f11_f10_invariance',\n",
       "  'column_scaling',\n",
       "  'variable_permutation',\n",
       "  'inversion',\n",
       "  'row_permutation',\n",
       "  'off_diagonal_permutation'],\n",
       " ['row_scaling',\n",
       "  'f11_f10_invariance',\n",
       "  'column_scaling',\n",
       "  'inversion',\n",
       "  'variable_permutation',\n",
       "  'off_diagonal_permutation',\n",
       "  'row_permutation',\n",
       "  'column_permutation'],\n",
       " ['null',\n",
       "  'null_variable_permutation',\n",
       "  'f11_f10_invariance',\n",
       "  'row_scaling',\n",
       "  'column_scaling',\n",
       "  'column_permutation',\n",
       "  'inversion',\n",
       "  'row_permutation'],\n",
       " ['row_scaling',\n",
       "  'f11_f10_invariance',\n",
       "  'column_scaling',\n",
       "  'variable_permutation',\n",
       "  'off_diagonal_permutation',\n",
       "  'inversion',\n",
       "  'row_permutation',\n",
       "  'column_permutation'],\n",
       " ['row_scaling',\n",
       "  'f11_f10_invariance',\n",
       "  'column_scaling',\n",
       "  'variable_permutation',\n",
       "  'off_diagonal_permutation',\n",
       "  'inversion',\n",
       "  'row_permutation',\n",
       "  'column_permutation'],\n",
       " ['row_scaling',\n",
       "  'f11_f10_invariance',\n",
       "  'column_scaling',\n",
       "  'variable_permutation',\n",
       "  'off_diagonal_permutation',\n",
       "  'inversion',\n",
       "  'row_permutation',\n",
       "  'column_permutation'],\n",
       " ['row_scaling',\n",
       "  'f11_f10_invariance',\n",
       "  'column_scaling',\n",
       "  'variable_permutation',\n",
       "  'off_diagonal_permutation',\n",
       "  'inversion',\n",
       "  'row_permutation',\n",
       "  'column_permutation'],\n",
       " ['row_scaling',\n",
       "  'f11_f10_invariance',\n",
       "  'column_scaling',\n",
       "  'inversion',\n",
       "  'variable_permutation',\n",
       "  'off_diagonal_permutation',\n",
       "  'row_permutation',\n",
       "  'column_permutation'],\n",
       " ['row_scaling',\n",
       "  'f11_f10_invariance',\n",
       "  'column_scaling',\n",
       "  'variable_permutation',\n",
       "  'inversion',\n",
       "  'row_permutation',\n",
       "  'off_diagonal_permutation'],\n",
       " ['row_scaling',\n",
       "  'f11_f10_invariance',\n",
       "  'column_scaling',\n",
       "  'row_permutation',\n",
       "  'variable_permutation',\n",
       "  'inversion',\n",
       "  'off_diagonal_permutation',\n",
       "  'column_permutation'],\n",
       " ['row_scaling',\n",
       "  'f11_f10_invariance',\n",
       "  'column_scaling',\n",
       "  'null_variable_permutation',\n",
       "  'variable_permutation',\n",
       "  'inversion',\n",
       "  'row_permutation',\n",
       "  'null',\n",
       "  'column_permutation',\n",
       "  'off_diagonal_permutation'],\n",
       " ['row_scaling', 'column_scaling', 'off_diagonal_permutation'],\n",
       " ['row_scaling',\n",
       "  'f11_f10_invariance',\n",
       "  'column_scaling',\n",
       "  'inversion',\n",
       "  'off_diagonal_permutation',\n",
       "  'variable_permutation',\n",
       "  'row_permutation',\n",
       "  'column_permutation'],\n",
       " ['column_scaling',\n",
       "  'row_scaling',\n",
       "  'inversion',\n",
       "  'row_permutation',\n",
       "  'f11_f10_invariance',\n",
       "  'column_permutation'],\n",
       " ['null',\n",
       "  'null_variable_permutation',\n",
       "  'f11_f10_invariance',\n",
       "  'row_scaling',\n",
       "  'column_scaling',\n",
       "  'column_permutation',\n",
       "  'inversion',\n",
       "  'row_permutation'],\n",
       " ['f11_f10_invariance', 'row_scaling', 'column_scaling'],\n",
       " ['row_scaling',\n",
       "  'f11_f10_invariance',\n",
       "  'column_scaling',\n",
       "  'variable_permutation',\n",
       "  'off_diagonal_permutation',\n",
       "  'inversion',\n",
       "  'row_permutation',\n",
       "  'column_permutation'],\n",
       " ['row_scaling',\n",
       "  'f11_f10_invariance',\n",
       "  'column_scaling',\n",
       "  'inversion',\n",
       "  'off_diagonal_permutation',\n",
       "  'variable_permutation',\n",
       "  'row_permutation',\n",
       "  'column_permutation'],\n",
       " ['row_scaling',\n",
       "  'f11_f10_invariance',\n",
       "  'column_scaling',\n",
       "  'column_permutation',\n",
       "  'variable_permutation',\n",
       "  'off_diagonal_permutation',\n",
       "  'inversion',\n",
       "  'row_permutation'],\n",
       " ['row_scaling',\n",
       "  'f11_f10_invariance',\n",
       "  'column_scaling',\n",
       "  'variable_permutation',\n",
       "  'off_diagonal_permutation',\n",
       "  'inversion',\n",
       "  'row_permutation',\n",
       "  'column_permutation']]"
      ]
     },
     "execution_count": 65,
     "metadata": {},
     "output_type": "execute_result"
    }
   ],
   "source": [
    "invariances"
   ]
  },
  {
   "cell_type": "code",
   "execution_count": null,
   "metadata": {
    "collapsed": false
   },
   "outputs": [],
   "source": [
    "# print(invariances[measures_dict['precision']])"
   ]
  },
  {
   "cell_type": "code",
   "execution_count": null,
   "metadata": {
    "collapsed": true
   },
   "outputs": [],
   "source": []
  }
 ],
 "metadata": {
  "anaconda-cloud": {},
  "kernelspec": {
   "display_name": "Python 3",
   "language": "python",
   "name": "python3"
  },
  "language_info": {
   "codemirror_mode": {
    "name": "ipython",
    "version": 3
   },
   "file_extension": ".py",
   "mimetype": "text/x-python",
   "name": "python",
   "nbconvert_exporter": "python",
   "pygments_lexer": "ipython3",
   "version": "3.5.2"
  }
 },
 "nbformat": 4,
 "nbformat_minor": 1
}
