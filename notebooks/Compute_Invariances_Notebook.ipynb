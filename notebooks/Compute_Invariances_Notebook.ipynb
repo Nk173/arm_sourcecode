{
 "cells": [
  {
   "cell_type": "code",
   "execution_count": 10,
   "metadata": {
    "collapsed": true
   },
   "outputs": [],
   "source": [
    "import numpy as np;\n",
    "from Invariance import invariance;\n",
    "from Measures import map_measures_to_indices;\n",
    "\n",
    "(measures_dict, measures_arr) = map_measures_to_indices();\n",
    "properties_vector = dict();\n",
    "\n",
    "# Can take a dict of measure names as keys if needed, else will pull the original one in Measures module\n",
    "# returns a dict with property vectors as values\n",
    "def compute_property_vectors(measures_dict=measures_dict):\n",
    "    for key,value in measures_dict.items():\n",
    "        invariance_object = invariance(key);\n",
    "        # [P2 P3 O1 O2 O3 O4 O5]\n",
    "        property_vector = np.empty(7, bool);\n",
    "        property_vector[0] = invariance_object.P2();\n",
    "        property_vector[1] = invariance_object.P3();\n",
    "        property_vector[2] = invariance_object.O1();\n",
    "        property_vector[3] = invariance_object.O2();\n",
    "        property_vector[4] = invariance_object.O3();\n",
    "        property_vector[5] = invariance_object.O4();\n",
    "        property_vector[6] = invariance_object.O5();\n",
    "        properties_vector[key] = property_vector;\n",
    "    return properties_vector;"
   ]
  },
  {
   "cell_type": "code",
   "execution_count": null,
   "metadata": {
    "collapsed": false
   },
   "outputs": [],
   "source": []
  },
  {
   "cell_type": "code",
   "execution_count": null,
   "metadata": {
    "collapsed": true
   },
   "outputs": [],
   "source": []
  },
  {
   "cell_type": "code",
   "execution_count": null,
   "metadata": {
    "collapsed": false
   },
   "outputs": [],
   "source": []
  },
  {
   "cell_type": "code",
   "execution_count": null,
   "metadata": {
    "collapsed": false
   },
   "outputs": [],
   "source": []
  },
  {
   "cell_type": "code",
   "execution_count": null,
   "metadata": {
    "collapsed": false
   },
   "outputs": [],
   "source": []
  },
  {
   "cell_type": "code",
   "execution_count": null,
   "metadata": {
    "collapsed": false
   },
   "outputs": [],
   "source": []
  },
  {
   "cell_type": "code",
   "execution_count": null,
   "metadata": {
    "collapsed": false
   },
   "outputs": [],
   "source": []
  },
  {
   "cell_type": "code",
   "execution_count": null,
   "metadata": {
    "collapsed": false
   },
   "outputs": [],
   "source": []
  },
  {
   "cell_type": "code",
   "execution_count": null,
   "metadata": {
    "collapsed": false
   },
   "outputs": [],
   "source": []
  },
  {
   "cell_type": "code",
   "execution_count": null,
   "metadata": {
    "collapsed": false
   },
   "outputs": [],
   "source": []
  },
  {
   "cell_type": "code",
   "execution_count": null,
   "metadata": {
    "collapsed": false
   },
   "outputs": [],
   "source": []
  },
  {
   "cell_type": "code",
   "execution_count": null,
   "metadata": {
    "collapsed": true
   },
   "outputs": [],
   "source": []
  }
 ],
 "metadata": {
  "anaconda-cloud": {},
  "kernelspec": {
   "display_name": "Python 3",
   "language": "python",
   "name": "python3"
  },
  "language_info": {
   "codemirror_mode": {
    "name": "ipython",
    "version": 3
   },
   "file_extension": ".py",
   "mimetype": "text/x-python",
   "name": "python",
   "nbconvert_exporter": "python",
   "pygments_lexer": "ipython3",
   "version": "3.5.2"
  }
 },
 "nbformat": 4,
 "nbformat_minor": 1
}
